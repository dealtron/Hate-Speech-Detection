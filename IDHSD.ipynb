{
  "nbformat": 4,
  "nbformat_minor": 0,
  "metadata": {
    "colab": {
      "name": "IDHSD",
      "provenance": [],
      "collapsed_sections": [],
      "toc_visible": true,
      "include_colab_link": true
    },
    "kernelspec": {
      "name": "python3",
      "display_name": "Python 3"
    }
  },
  "cells": [
    {
      "cell_type": "markdown",
      "metadata": {
        "id": "view-in-github",
        "colab_type": "text"
      },
      "source": [
        "<a href=\"https://colab.research.google.com/github/dealtron/Hate-Speech-Detection/blob/master/IDHSD.ipynb\" target=\"_parent\"><img src=\"https://colab.research.google.com/assets/colab-badge.svg\" alt=\"Open In Colab\"/></a>"
      ]
    },
    {
      "cell_type": "markdown",
      "metadata": {
        "id": "Up2MQL0imvLy"
      },
      "source": [
        "*Data Science Course - Telkom Digital Talent Incubator*\n",
        "\n",
        "\n",
        "---\n",
        "\n",
        "\n"
      ]
    },
    {
      "cell_type": "markdown",
      "metadata": {
        "id": "COHOuO-aicds"
      },
      "source": [
        "# **Text Mining**"
      ]
    },
    {
      "cell_type": "markdown",
      "metadata": {
        "id": "xG8z8oVNULmV"
      },
      "source": [
        "Disini saya melakukan text mining menggunakan data IDHSD_RIO_unbalanced_713_2017.txt (https://github.com/ialfina/id-hatespeech-detection) dan telah saya ubah menjadi csv. Di dalam data ini terdapat 2 atribute, yaitu :\n",
        "\n",
        "1.   Label (HS, Non_HS),\n",
        "2.   Tweet.\n",
        "\n",
        "Disini saya akan mencoba untuk mengklasifikasi tweet dari user dan dan kemudian melakukan prediksi terhadap Tweet tersebut, apakah itu HS (Hate Speech) atau Non_HS (Non Hate Speech)"
      ]
    },
    {
      "cell_type": "markdown",
      "metadata": {
        "id": "kgluYCulxxIJ"
      },
      "source": [
        "#### ***Import Libraries***"
      ]
    },
    {
      "cell_type": "markdown",
      "metadata": {
        "id": "eyKIsn66Rhil"
      },
      "source": [
        "Disini saya akan menginstall dan mengimport libraries yang akan digunakan pada assignment text mining."
      ]
    },
    {
      "cell_type": "code",
      "metadata": {
        "colab": {
          "base_uri": "https://localhost:8080/"
        },
        "id": "6G2V6x3i1Glu",
        "outputId": "583e6033-2699-454c-cbd8-f52d59a58cac"
      },
      "source": [
        "!pip install nltk\n",
        "!pip install Sastrawi"
      ],
      "execution_count": 1,
      "outputs": [
        {
          "output_type": "stream",
          "text": [
            "Requirement already satisfied: nltk in /usr/local/lib/python3.6/dist-packages (3.2.5)\n",
            "Requirement already satisfied: six in /usr/local/lib/python3.6/dist-packages (from nltk) (1.15.0)\n",
            "Collecting Sastrawi\n",
            "\u001b[?25l  Downloading https://files.pythonhosted.org/packages/6f/4b/bab676953da3103003730b8fcdfadbdd20f333d4add10af949dd5c51e6ed/Sastrawi-1.0.1-py2.py3-none-any.whl (209kB)\n",
            "\u001b[K     |████████████████████████████████| 215kB 6.1MB/s \n",
            "\u001b[?25hInstalling collected packages: Sastrawi\n",
            "Successfully installed Sastrawi-1.0.1\n"
          ],
          "name": "stdout"
        }
      ]
    },
    {
      "cell_type": "code",
      "metadata": {
        "id": "3LnjbBxXx0vz",
        "colab": {
          "base_uri": "https://localhost:8080/"
        },
        "outputId": "26a0e1d2-f4fa-425d-8b3b-7be1e3027e87"
      },
      "source": [
        "# Import Library\n",
        "import pandas as pd\n",
        "import sklearn.metrics as metrics\n",
        "from sklearn.model_selection import GridSearchCV\n",
        "import numpy as np\n",
        "from sklearn.pipeline import make_pipeline\n",
        "from sklearn.preprocessing import StandardScaler\n",
        "import seaborn as sns\n",
        "import matplotlib.pyplot as plt\n",
        "import string \n",
        "import re\n",
        "import nltk\n",
        "from google.colab import files\n",
        "\n",
        "nltk.download('punkt')\n",
        "nltk.download('stopwords')\n",
        "from nltk.tokenize import word_tokenize \n",
        "from nltk.probability import FreqDist\n",
        "from Sastrawi.Stemmer.StemmerFactory import StemmerFactory\n",
        "from nltk.corpus import stopwords\n",
        "\n",
        "from sklearn.model_selection import train_test_split\n",
        "from sklearn import model_selection, naive_bayes, svm\n",
        "from sklearn.metrics import accuracy_score"
      ],
      "execution_count": 2,
      "outputs": [
        {
          "output_type": "stream",
          "text": [
            "[nltk_data] Downloading package punkt to /root/nltk_data...\n",
            "[nltk_data]   Unzipping tokenizers/punkt.zip.\n",
            "[nltk_data] Downloading package stopwords to /root/nltk_data...\n",
            "[nltk_data]   Unzipping corpora/stopwords.zip.\n"
          ],
          "name": "stdout"
        }
      ]
    },
    {
      "cell_type": "markdown",
      "metadata": {
        "id": "jkyqQ1AcKkTQ"
      },
      "source": [
        "#### ***Assigning Data Frame***"
      ]
    },
    {
      "cell_type": "markdown",
      "metadata": {
        "id": "VZ6Q4IRnmbRG"
      },
      "source": [
        "Lalu saya akan mengassign dan melihat data apa saja yang saya pakai untuk assignment text mining kali ini"
      ]
    },
    {
      "cell_type": "code",
      "metadata": {
        "id": "pa0blw2s6G7X",
        "colab": {
          "base_uri": "https://localhost:8080/",
          "height": 419
        },
        "outputId": "360dd490-0a7e-485d-dc93-8aa27d2536ae"
      },
      "source": [
        "# Import Data to Google Colab\n",
        "df_bank = pd.read_csv('https://raw.githubusercontent.com/dealtron/Hate-Speech-Detection/master/data/IDHSD.csv', encoding='latin1')\n",
        "df_bank"
      ],
      "execution_count": 14,
      "outputs": [
        {
          "output_type": "execute_result",
          "data": {
            "text/html": [
              "<div>\n",
              "<style scoped>\n",
              "    .dataframe tbody tr th:only-of-type {\n",
              "        vertical-align: middle;\n",
              "    }\n",
              "\n",
              "    .dataframe tbody tr th {\n",
              "        vertical-align: top;\n",
              "    }\n",
              "\n",
              "    .dataframe thead th {\n",
              "        text-align: right;\n",
              "    }\n",
              "</style>\n",
              "<table border=\"1\" class=\"dataframe\">\n",
              "  <thead>\n",
              "    <tr style=\"text-align: right;\">\n",
              "      <th></th>\n",
              "      <th>Label</th>\n",
              "      <th>Tweet</th>\n",
              "    </tr>\n",
              "  </thead>\n",
              "  <tbody>\n",
              "    <tr>\n",
              "      <th>0</th>\n",
              "      <td>Non_HS</td>\n",
              "      <td>RT @spardaxyz: Fadli Zon Minta Mendagri Segera...</td>\n",
              "    </tr>\n",
              "    <tr>\n",
              "      <th>1</th>\n",
              "      <td>Non_HS</td>\n",
              "      <td>RT @baguscondromowo: Mereka terus melukai aksi...</td>\n",
              "    </tr>\n",
              "    <tr>\n",
              "      <th>2</th>\n",
              "      <td>Non_HS</td>\n",
              "      <td>Sylvi: bagaimana gurbernur melakukan kekerasan...</td>\n",
              "    </tr>\n",
              "    <tr>\n",
              "      <th>3</th>\n",
              "      <td>Non_HS</td>\n",
              "      <td>Ahmad Dhani Tak Puas Debat Pilkada, Masalah Ja...</td>\n",
              "    </tr>\n",
              "    <tr>\n",
              "      <th>4</th>\n",
              "      <td>Non_HS</td>\n",
              "      <td>RT @lisdaulay28: Waspada KTP palsu.....kawal P...</td>\n",
              "    </tr>\n",
              "    <tr>\n",
              "      <th>...</th>\n",
              "      <td>...</td>\n",
              "      <td>...</td>\n",
              "    </tr>\n",
              "    <tr>\n",
              "      <th>708</th>\n",
              "      <td>HS</td>\n",
              "      <td>Muka Si BABi Ahok Tuh Yg Mirip SERBET Lantai.....</td>\n",
              "    </tr>\n",
              "    <tr>\n",
              "      <th>709</th>\n",
              "      <td>HS</td>\n",
              "      <td>Betul bang hancurkan merka bang, musnahkan chi...</td>\n",
              "    </tr>\n",
              "    <tr>\n",
              "      <th>710</th>\n",
              "      <td>HS</td>\n",
              "      <td>Sapa Yg bilang Ahok anti korupsi!?, klo grombo...</td>\n",
              "    </tr>\n",
              "    <tr>\n",
              "      <th>711</th>\n",
              "      <td>HS</td>\n",
              "      <td>Gw juga ngimpi SENTILIN BIJI BABI AHOK, pcetar...</td>\n",
              "    </tr>\n",
              "    <tr>\n",
              "      <th>712</th>\n",
              "      <td>HS</td>\n",
              "      <td>Mudah2an gw ketemu sama SI BABI IWAN BOPENG DI...</td>\n",
              "    </tr>\n",
              "  </tbody>\n",
              "</table>\n",
              "<p>713 rows × 2 columns</p>\n",
              "</div>"
            ],
            "text/plain": [
              "      Label                                              Tweet\n",
              "0    Non_HS  RT @spardaxyz: Fadli Zon Minta Mendagri Segera...\n",
              "1    Non_HS  RT @baguscondromowo: Mereka terus melukai aksi...\n",
              "2    Non_HS  Sylvi: bagaimana gurbernur melakukan kekerasan...\n",
              "3    Non_HS  Ahmad Dhani Tak Puas Debat Pilkada, Masalah Ja...\n",
              "4    Non_HS  RT @lisdaulay28: Waspada KTP palsu.....kawal P...\n",
              "..      ...                                                ...\n",
              "708      HS  Muka Si BABi Ahok Tuh Yg Mirip SERBET Lantai.....\n",
              "709      HS  Betul bang hancurkan merka bang, musnahkan chi...\n",
              "710      HS  Sapa Yg bilang Ahok anti korupsi!?, klo grombo...\n",
              "711      HS  Gw juga ngimpi SENTILIN BIJI BABI AHOK, pcetar...\n",
              "712      HS  Mudah2an gw ketemu sama SI BABI IWAN BOPENG DI...\n",
              "\n",
              "[713 rows x 2 columns]"
            ]
          },
          "metadata": {
            "tags": []
          },
          "execution_count": 14
        }
      ]
    },
    {
      "cell_type": "markdown",
      "metadata": {
        "id": "EjTUC2qNK3Cr"
      },
      "source": [
        "Kemudian disini saya akan menukar posisi column label dan tweet saya"
      ]
    },
    {
      "cell_type": "code",
      "metadata": {
        "id": "sg146DfpjnXh"
      },
      "source": [
        "df_bank = df_bank[['Tweet','Label']]"
      ],
      "execution_count": 15,
      "outputs": []
    },
    {
      "cell_type": "markdown",
      "metadata": {
        "id": "AGEMf4DRLQAe"
      },
      "source": [
        "Lalu kemudian disini saya akan mereplace atribute label dari :\n",
        "\n",
        "*   HS => 1\n",
        "*   Non_HS => 0\n",
        "\n"
      ]
    },
    {
      "cell_type": "code",
      "metadata": {
        "id": "5Z2tKiIZV73J",
        "colab": {
          "base_uri": "https://localhost:8080/"
        },
        "outputId": "2ea44eb4-06f6-4f36-e9e8-40ad8ab0dbfd"
      },
      "source": [
        "df_bank.Label.replace(('Non_HS', 'HS'), (0, 1), inplace=True)"
      ],
      "execution_count": 16,
      "outputs": [
        {
          "output_type": "stream",
          "text": [
            "/usr/local/lib/python3.6/dist-packages/pandas/core/series.py:4581: SettingWithCopyWarning: \n",
            "A value is trying to be set on a copy of a slice from a DataFrame\n",
            "\n",
            "See the caveats in the documentation: https://pandas.pydata.org/pandas-docs/stable/user_guide/indexing.html#returning-a-view-versus-a-copy\n",
            "  method=method,\n"
          ],
          "name": "stderr"
        }
      ]
    },
    {
      "cell_type": "markdown",
      "metadata": {
        "id": "LovuisxqLlSC"
      },
      "source": [
        "Disini kita akan melihat seperti apa dataframe yang telah kita olah tadi"
      ]
    },
    {
      "cell_type": "code",
      "metadata": {
        "colab": {
          "base_uri": "https://localhost:8080/",
          "height": 419
        },
        "id": "Ii8q3ajgi2kM",
        "outputId": "791e3737-10fc-4e4a-c136-b79b2018c17b"
      },
      "source": [
        "df_bank"
      ],
      "execution_count": 17,
      "outputs": [
        {
          "output_type": "execute_result",
          "data": {
            "text/html": [
              "<div>\n",
              "<style scoped>\n",
              "    .dataframe tbody tr th:only-of-type {\n",
              "        vertical-align: middle;\n",
              "    }\n",
              "\n",
              "    .dataframe tbody tr th {\n",
              "        vertical-align: top;\n",
              "    }\n",
              "\n",
              "    .dataframe thead th {\n",
              "        text-align: right;\n",
              "    }\n",
              "</style>\n",
              "<table border=\"1\" class=\"dataframe\">\n",
              "  <thead>\n",
              "    <tr style=\"text-align: right;\">\n",
              "      <th></th>\n",
              "      <th>Tweet</th>\n",
              "      <th>Label</th>\n",
              "    </tr>\n",
              "  </thead>\n",
              "  <tbody>\n",
              "    <tr>\n",
              "      <th>0</th>\n",
              "      <td>RT @spardaxyz: Fadli Zon Minta Mendagri Segera...</td>\n",
              "      <td>0</td>\n",
              "    </tr>\n",
              "    <tr>\n",
              "      <th>1</th>\n",
              "      <td>RT @baguscondromowo: Mereka terus melukai aksi...</td>\n",
              "      <td>0</td>\n",
              "    </tr>\n",
              "    <tr>\n",
              "      <th>2</th>\n",
              "      <td>Sylvi: bagaimana gurbernur melakukan kekerasan...</td>\n",
              "      <td>0</td>\n",
              "    </tr>\n",
              "    <tr>\n",
              "      <th>3</th>\n",
              "      <td>Ahmad Dhani Tak Puas Debat Pilkada, Masalah Ja...</td>\n",
              "      <td>0</td>\n",
              "    </tr>\n",
              "    <tr>\n",
              "      <th>4</th>\n",
              "      <td>RT @lisdaulay28: Waspada KTP palsu.....kawal P...</td>\n",
              "      <td>0</td>\n",
              "    </tr>\n",
              "    <tr>\n",
              "      <th>...</th>\n",
              "      <td>...</td>\n",
              "      <td>...</td>\n",
              "    </tr>\n",
              "    <tr>\n",
              "      <th>708</th>\n",
              "      <td>Muka Si BABi Ahok Tuh Yg Mirip SERBET Lantai.....</td>\n",
              "      <td>1</td>\n",
              "    </tr>\n",
              "    <tr>\n",
              "      <th>709</th>\n",
              "      <td>Betul bang hancurkan merka bang, musnahkan chi...</td>\n",
              "      <td>1</td>\n",
              "    </tr>\n",
              "    <tr>\n",
              "      <th>710</th>\n",
              "      <td>Sapa Yg bilang Ahok anti korupsi!?, klo grombo...</td>\n",
              "      <td>1</td>\n",
              "    </tr>\n",
              "    <tr>\n",
              "      <th>711</th>\n",
              "      <td>Gw juga ngimpi SENTILIN BIJI BABI AHOK, pcetar...</td>\n",
              "      <td>1</td>\n",
              "    </tr>\n",
              "    <tr>\n",
              "      <th>712</th>\n",
              "      <td>Mudah2an gw ketemu sama SI BABI IWAN BOPENG DI...</td>\n",
              "      <td>1</td>\n",
              "    </tr>\n",
              "  </tbody>\n",
              "</table>\n",
              "<p>713 rows × 2 columns</p>\n",
              "</div>"
            ],
            "text/plain": [
              "                                                 Tweet  Label\n",
              "0    RT @spardaxyz: Fadli Zon Minta Mendagri Segera...      0\n",
              "1    RT @baguscondromowo: Mereka terus melukai aksi...      0\n",
              "2    Sylvi: bagaimana gurbernur melakukan kekerasan...      0\n",
              "3    Ahmad Dhani Tak Puas Debat Pilkada, Masalah Ja...      0\n",
              "4    RT @lisdaulay28: Waspada KTP palsu.....kawal P...      0\n",
              "..                                                 ...    ...\n",
              "708  Muka Si BABi Ahok Tuh Yg Mirip SERBET Lantai.....      1\n",
              "709  Betul bang hancurkan merka bang, musnahkan chi...      1\n",
              "710  Sapa Yg bilang Ahok anti korupsi!?, klo grombo...      1\n",
              "711  Gw juga ngimpi SENTILIN BIJI BABI AHOK, pcetar...      1\n",
              "712  Mudah2an gw ketemu sama SI BABI IWAN BOPENG DI...      1\n",
              "\n",
              "[713 rows x 2 columns]"
            ]
          },
          "metadata": {
            "tags": []
          },
          "execution_count": 17
        }
      ]
    },
    {
      "cell_type": "markdown",
      "metadata": {
        "id": "k0uyt3s0MIh_"
      },
      "source": [
        "#### ***Data Visualization***"
      ]
    },
    {
      "cell_type": "markdown",
      "metadata": {
        "id": "gDthz3PiyerG"
      },
      "source": [
        "Disini kita akan melihat besarnya perbandingan data atribute label"
      ]
    },
    {
      "cell_type": "code",
      "metadata": {
        "id": "WgcWsuGARvnM",
        "colab": {
          "base_uri": "https://localhost:8080/",
          "height": 420
        },
        "outputId": "0305ed93-d5b1-4a39-d874-8a7426132fe0"
      },
      "source": [
        "c_depo = df_bank['Label'].value_counts()\n",
        "print(c_depo)\n",
        "sns.catplot(x='Label',kind=\"count\", data=df_bank, height=5, aspect=1.5)\n",
        "plt.xlabel(\"Deposit\", size=14)\n",
        "plt.ylabel(\"Count\", size=14)\n",
        "plt.tight_layout()"
      ],
      "execution_count": 18,
      "outputs": [
        {
          "output_type": "stream",
          "text": [
            "0    453\n",
            "1    260\n",
            "Name: Label, dtype: int64\n"
          ],
          "name": "stdout"
        },
        {
          "output_type": "display_data",
          "data": {
            "image/png": "[encoded data removed]",
            "text/plain": [
              "<Figure size 540x360 with 1 Axes>"
            ]
          },
          "metadata": {
            "tags": [],
            "needs_background": "light"
          }
        }
      ]
    },
    {
      "cell_type": "markdown",
      "metadata": {
        "id": "p4ELYi5mSRmT"
      },
      "source": [
        "Dari data yang ada, terdapat :\n",
        "\n",
        "\n",
        "*   453 data dengan label 0 (Non_HS),\n",
        "*   260 data dengan label 1 (HS).\n",
        "\n"
      ]
    },
    {
      "cell_type": "markdown",
      "metadata": {
        "id": "r3ZKSlkVytpN"
      },
      "source": [
        "Dan kemudian kita lihat info dari dataset yang kita pakai"
      ]
    },
    {
      "cell_type": "code",
      "metadata": {
        "id": "kGOqBrwfxGsG",
        "colab": {
          "base_uri": "https://localhost:8080/"
        },
        "outputId": "5b58b365-0a24-4c50-95f9-2b50ddb3740a"
      },
      "source": [
        "# Prints the Dataset Information\n",
        "df_bank.info()"
      ],
      "execution_count": 21,
      "outputs": [
        {
          "output_type": "stream",
          "text": [
            "<class 'pandas.core.frame.DataFrame'>\n",
            "RangeIndex: 713 entries, 0 to 712\n",
            "Data columns (total 2 columns):\n",
            " #   Column  Non-Null Count  Dtype \n",
            "---  ------  --------------  ----- \n",
            " 0   Tweet   713 non-null    object\n",
            " 1   Label   713 non-null    int64 \n",
            "dtypes: int64(1), object(1)\n",
            "memory usage: 11.3+ KB\n"
          ],
          "name": "stdout"
        }
      ]
    },
    {
      "cell_type": "markdown",
      "metadata": {
        "id": "Qu3-_cMqolmD"
      },
      "source": [
        "#### ***Data Cleansing***"
      ]
    },
    {
      "cell_type": "markdown",
      "metadata": {
        "id": "_f99fF2tm3r9"
      },
      "source": [
        "Disini kita ingin melihat apakah ada data yang kosong/null pada tiap data atribute di dataset yang akan saya gunakan."
      ]
    },
    {
      "cell_type": "code",
      "metadata": {
        "id": "WqMBNZiKm-KV",
        "colab": {
          "base_uri": "https://localhost:8080/"
        },
        "outputId": "3cea06db-04d5-49a9-94e6-4c3ac73ae63e"
      },
      "source": [
        "# Check for Missing Values\n",
        "df_bank.isnull().sum()"
      ],
      "execution_count": 22,
      "outputs": [
        {
          "output_type": "execute_result",
          "data": {
            "text/plain": [
              "Tweet    0\n",
              "Label    0\n",
              "dtype: int64"
            ]
          },
          "metadata": {
            "tags": []
          },
          "execution_count": 22
        }
      ]
    },
    {
      "cell_type": "markdown",
      "metadata": {
        "id": "kAjZLOamP80a"
      },
      "source": [
        "Setelah dicek, tidak ada data yang kosong/null di dataset, oleh karena itu tidak perlu digunakan penggantian/penambahan data pada dataset."
      ]
    },
    {
      "cell_type": "markdown",
      "metadata": {
        "id": "UP9oNIk1QNym"
      },
      "source": [
        "#### ***Text Cleaning***"
      ]
    },
    {
      "cell_type": "markdown",
      "metadata": {
        "id": "c8hsGWljPLGw"
      },
      "source": [
        "**Lowercase**"
      ]
    },
    {
      "cell_type": "markdown",
      "metadata": {
        "id": "r3pFHOZENbpl"
      },
      "source": [
        "Langkah pertama yang saya lakukan disini adalah merubah tiap kata di Tweet menjadi menggunakan lower case"
      ]
    },
    {
      "cell_type": "code",
      "metadata": {
        "colab": {
          "base_uri": "https://localhost:8080/"
        },
        "id": "JqV2Idj_kiA2",
        "outputId": "52d6c397-5dd1-438b-b963-a4af3484871b"
      },
      "source": [
        "df_bank['Tweet_Lower'] = df_bank['Tweet'].str.lower()"
      ],
      "execution_count": 23,
      "outputs": [
        {
          "output_type": "stream",
          "text": [
            "/usr/local/lib/python3.6/dist-packages/ipykernel_launcher.py:1: SettingWithCopyWarning: \n",
            "A value is trying to be set on a copy of a slice from a DataFrame.\n",
            "Try using .loc[row_indexer,col_indexer] = value instead\n",
            "\n",
            "See the caveats in the documentation: https://pandas.pydata.org/pandas-docs/stable/user_guide/indexing.html#returning-a-view-versus-a-copy\n",
            "  \"\"\"Entry point for launching an IPython kernel.\n"
          ],
          "name": "stderr"
        }
      ]
    },
    {
      "cell_type": "code",
      "metadata": {
        "colab": {
          "base_uri": "https://localhost:8080/",
          "height": 419
        },
        "id": "S_w034LwTp_U",
        "outputId": "703ffb6e-6cae-4fd1-c4c0-0537b19335c5"
      },
      "source": [
        "df_bank"
      ],
      "execution_count": 24,
      "outputs": [
        {
          "output_type": "execute_result",
          "data": {
            "text/html": [
              "<div>\n",
              "<style scoped>\n",
              "    .dataframe tbody tr th:only-of-type {\n",
              "        vertical-align: middle;\n",
              "    }\n",
              "\n",
              "    .dataframe tbody tr th {\n",
              "        vertical-align: top;\n",
              "    }\n",
              "\n",
              "    .dataframe thead th {\n",
              "        text-align: right;\n",
              "    }\n",
              "</style>\n",
              "<table border=\"1\" class=\"dataframe\">\n",
              "  <thead>\n",
              "    <tr style=\"text-align: right;\">\n",
              "      <th></th>\n",
              "      <th>Tweet</th>\n",
              "      <th>Label</th>\n",
              "      <th>Tweet_Lower</th>\n",
              "    </tr>\n",
              "  </thead>\n",
              "  <tbody>\n",
              "    <tr>\n",
              "      <th>0</th>\n",
              "      <td>RT @spardaxyz: Fadli Zon Minta Mendagri Segera...</td>\n",
              "      <td>0</td>\n",
              "      <td>rt @spardaxyz: fadli zon minta mendagri segera...</td>\n",
              "    </tr>\n",
              "    <tr>\n",
              "      <th>1</th>\n",
              "      <td>RT @baguscondromowo: Mereka terus melukai aksi...</td>\n",
              "      <td>0</td>\n",
              "      <td>rt @baguscondromowo: mereka terus melukai aksi...</td>\n",
              "    </tr>\n",
              "    <tr>\n",
              "      <th>2</th>\n",
              "      <td>Sylvi: bagaimana gurbernur melakukan kekerasan...</td>\n",
              "      <td>0</td>\n",
              "      <td>sylvi: bagaimana gurbernur melakukan kekerasan...</td>\n",
              "    </tr>\n",
              "    <tr>\n",
              "      <th>3</th>\n",
              "      <td>Ahmad Dhani Tak Puas Debat Pilkada, Masalah Ja...</td>\n",
              "      <td>0</td>\n",
              "      <td>ahmad dhani tak puas debat pilkada, masalah ja...</td>\n",
              "    </tr>\n",
              "    <tr>\n",
              "      <th>4</th>\n",
              "      <td>RT @lisdaulay28: Waspada KTP palsu.....kawal P...</td>\n",
              "      <td>0</td>\n",
              "      <td>rt @lisdaulay28: waspada ktp palsu.....kawal p...</td>\n",
              "    </tr>\n",
              "    <tr>\n",
              "      <th>...</th>\n",
              "      <td>...</td>\n",
              "      <td>...</td>\n",
              "      <td>...</td>\n",
              "    </tr>\n",
              "    <tr>\n",
              "      <th>708</th>\n",
              "      <td>Muka Si BABi Ahok Tuh Yg Mirip SERBET Lantai.....</td>\n",
              "      <td>1</td>\n",
              "      <td>muka si babi ahok tuh yg mirip serbet lantai.....</td>\n",
              "    </tr>\n",
              "    <tr>\n",
              "      <th>709</th>\n",
              "      <td>Betul bang hancurkan merka bang, musnahkan chi...</td>\n",
              "      <td>1</td>\n",
              "      <td>betul bang hancurkan merka bang, musnahkan chi...</td>\n",
              "    </tr>\n",
              "    <tr>\n",
              "      <th>710</th>\n",
              "      <td>Sapa Yg bilang Ahok anti korupsi!?, klo grombo...</td>\n",
              "      <td>1</td>\n",
              "      <td>sapa yg bilang ahok anti korupsi!?, klo grombo...</td>\n",
              "    </tr>\n",
              "    <tr>\n",
              "      <th>711</th>\n",
              "      <td>Gw juga ngimpi SENTILIN BIJI BABI AHOK, pcetar...</td>\n",
              "      <td>1</td>\n",
              "      <td>gw juga ngimpi sentilin biji babi ahok, pcetar...</td>\n",
              "    </tr>\n",
              "    <tr>\n",
              "      <th>712</th>\n",
              "      <td>Mudah2an gw ketemu sama SI BABI IWAN BOPENG DI...</td>\n",
              "      <td>1</td>\n",
              "      <td>mudah2an gw ketemu sama si babi iwan bopeng di...</td>\n",
              "    </tr>\n",
              "  </tbody>\n",
              "</table>\n",
              "<p>713 rows × 3 columns</p>\n",
              "</div>"
            ],
            "text/plain": [
              "                                                 Tweet  ...                                        Tweet_Lower\n",
              "0    RT @spardaxyz: Fadli Zon Minta Mendagri Segera...  ...  rt @spardaxyz: fadli zon minta mendagri segera...\n",
              "1    RT @baguscondromowo: Mereka terus melukai aksi...  ...  rt @baguscondromowo: mereka terus melukai aksi...\n",
              "2    Sylvi: bagaimana gurbernur melakukan kekerasan...  ...  sylvi: bagaimana gurbernur melakukan kekerasan...\n",
              "3    Ahmad Dhani Tak Puas Debat Pilkada, Masalah Ja...  ...  ahmad dhani tak puas debat pilkada, masalah ja...\n",
              "4    RT @lisdaulay28: Waspada KTP palsu.....kawal P...  ...  rt @lisdaulay28: waspada ktp palsu.....kawal p...\n",
              "..                                                 ...  ...                                                ...\n",
              "708  Muka Si BABi Ahok Tuh Yg Mirip SERBET Lantai.....  ...  muka si babi ahok tuh yg mirip serbet lantai.....\n",
              "709  Betul bang hancurkan merka bang, musnahkan chi...  ...  betul bang hancurkan merka bang, musnahkan chi...\n",
              "710  Sapa Yg bilang Ahok anti korupsi!?, klo grombo...  ...  sapa yg bilang ahok anti korupsi!?, klo grombo...\n",
              "711  Gw juga ngimpi SENTILIN BIJI BABI AHOK, pcetar...  ...  gw juga ngimpi sentilin biji babi ahok, pcetar...\n",
              "712  Mudah2an gw ketemu sama SI BABI IWAN BOPENG DI...  ...  mudah2an gw ketemu sama si babi iwan bopeng di...\n",
              "\n",
              "[713 rows x 3 columns]"
            ]
          },
          "metadata": {
            "tags": []
          },
          "execution_count": 24
        }
      ]
    },
    {
      "cell_type": "markdown",
      "metadata": {
        "id": "0aMsiqjhPPMf"
      },
      "source": [
        "**Tokenization**"
      ]
    },
    {
      "cell_type": "markdown",
      "metadata": {
        "id": "nItHpqCAOQGL"
      },
      "source": [
        "Lalu disini saya akan menghilangkan url, hashtag, mention, link, emoticon, tab, angka, tanda baca, single character (satu huruf saja), spasi, dll."
      ]
    },
    {
      "cell_type": "code",
      "metadata": {
        "id": "4KDmT6vMlDsz",
        "colab": {
          "base_uri": "https://localhost:8080/"
        },
        "outputId": "c8432a78-dce9-4f6b-eb67-23af19764c6b"
      },
      "source": [
        "def remove_tweet_special(text):\n",
        "    # remove tab, new line, ans back slice\n",
        "    text = text.replace('\\\\t',\" \").replace('\\\\n',\" \").replace('\\\\u',\" \").replace('\\\\',\"\")\n",
        "    # remove non ASCII (emoticon, chinese word, .etc)\n",
        "    text = text.encode('ascii', 'replace').decode('ascii')\n",
        "    # remove mention, link, hashtag\n",
        "    text = ' '.join(re.sub(\"([@#][A-Za-z0-9]+)|(\\w+:\\/\\/\\S+)\",\" \", text).split())\n",
        "    # remove incomplete URL\n",
        "    return text.replace(\"http://\", \" \").replace(\"https://\", \" \")\n",
        "                \n",
        "df_bank['Tweet_Rem'] = df_bank['Tweet_Lower'].apply(remove_tweet_special)\n",
        "\n",
        "#remove number\n",
        "def remove_number(text):\n",
        "    return  re.sub(r\"\\d+\", \"\", text)\n",
        "\n",
        "df_bank['Tweet_Rem'] = df_bank['Tweet_Rem'].apply(remove_number)\n",
        "\n",
        "#remove punctuation\n",
        "def remove_punctuation(text):\n",
        "    return text.translate(str.maketrans(\"\",\"\",string.punctuation))\n",
        "\n",
        "df_bank['Tweet_Rem'] = df_bank['Tweet_Rem'].apply(remove_punctuation)\n",
        "\n",
        "#remove whitespace leading & trailing\n",
        "def remove_whitespace_LT(text):\n",
        "    return text.strip()\n",
        "\n",
        "df_bank['Tweet_Rem'] = df_bank['Tweet_Rem'].apply(remove_whitespace_LT)\n",
        "\n",
        "#remove multiple whitespace into single whitespace\n",
        "def remove_whitespace_multiple(text):\n",
        "    return re.sub('\\s+',' ',text)\n",
        "\n",
        "df_bank['Tweet_Rem'] = df_bank['Tweet_Rem'].apply(remove_whitespace_multiple)\n",
        "\n",
        "# remove single char\n",
        "def remove_singl_char(text):\n",
        "    return re.sub(r\"\\b[a-zA-Z]\\b\", \"\", text)\n",
        "\n",
        "df_bank['Tweet_Rem'] = df_bank['Tweet_Rem'].apply(remove_singl_char)"
      ],
      "execution_count": 25,
      "outputs": [
        {
          "output_type": "stream",
          "text": [
            "/usr/local/lib/python3.6/dist-packages/ipykernel_launcher.py:11: SettingWithCopyWarning: \n",
            "A value is trying to be set on a copy of a slice from a DataFrame.\n",
            "Try using .loc[row_indexer,col_indexer] = value instead\n",
            "\n",
            "See the caveats in the documentation: https://pandas.pydata.org/pandas-docs/stable/user_guide/indexing.html#returning-a-view-versus-a-copy\n",
            "  # This is added back by InteractiveShellApp.init_path()\n",
            "/usr/local/lib/python3.6/dist-packages/ipykernel_launcher.py:17: SettingWithCopyWarning: \n",
            "A value is trying to be set on a copy of a slice from a DataFrame.\n",
            "Try using .loc[row_indexer,col_indexer] = value instead\n",
            "\n",
            "See the caveats in the documentation: https://pandas.pydata.org/pandas-docs/stable/user_guide/indexing.html#returning-a-view-versus-a-copy\n",
            "/usr/local/lib/python3.6/dist-packages/ipykernel_launcher.py:23: SettingWithCopyWarning: \n",
            "A value is trying to be set on a copy of a slice from a DataFrame.\n",
            "Try using .loc[row_indexer,col_indexer] = value instead\n",
            "\n",
            "See the caveats in the documentation: https://pandas.pydata.org/pandas-docs/stable/user_guide/indexing.html#returning-a-view-versus-a-copy\n",
            "/usr/local/lib/python3.6/dist-packages/ipykernel_launcher.py:29: SettingWithCopyWarning: \n",
            "A value is trying to be set on a copy of a slice from a DataFrame.\n",
            "Try using .loc[row_indexer,col_indexer] = value instead\n",
            "\n",
            "See the caveats in the documentation: https://pandas.pydata.org/pandas-docs/stable/user_guide/indexing.html#returning-a-view-versus-a-copy\n",
            "/usr/local/lib/python3.6/dist-packages/ipykernel_launcher.py:35: SettingWithCopyWarning: \n",
            "A value is trying to be set on a copy of a slice from a DataFrame.\n",
            "Try using .loc[row_indexer,col_indexer] = value instead\n",
            "\n",
            "See the caveats in the documentation: https://pandas.pydata.org/pandas-docs/stable/user_guide/indexing.html#returning-a-view-versus-a-copy\n",
            "/usr/local/lib/python3.6/dist-packages/ipykernel_launcher.py:41: SettingWithCopyWarning: \n",
            "A value is trying to be set on a copy of a slice from a DataFrame.\n",
            "Try using .loc[row_indexer,col_indexer] = value instead\n",
            "\n",
            "See the caveats in the documentation: https://pandas.pydata.org/pandas-docs/stable/user_guide/indexing.html#returning-a-view-versus-a-copy\n"
          ],
          "name": "stderr"
        }
      ]
    },
    {
      "cell_type": "markdown",
      "metadata": {
        "id": "jx3ebCo3UxyX"
      },
      "source": [
        "Dan kemudian saya akan melakukan tokenization"
      ]
    },
    {
      "cell_type": "code",
      "metadata": {
        "colab": {
          "base_uri": "https://localhost:8080/"
        },
        "id": "6f8JtOJLURWk",
        "outputId": "8dad6bdb-f6fe-4409-a55c-6773fb57531c"
      },
      "source": [
        "# NLTK word rokenize \n",
        "def word_tokenize_wrapper(text):\n",
        "    return word_tokenize(text)\n",
        "\n",
        "df_bank['Tweet_Token'] = df_bank['Tweet_Rem'].apply(word_tokenize_wrapper)"
      ],
      "execution_count": 26,
      "outputs": [
        {
          "output_type": "stream",
          "text": [
            "/usr/local/lib/python3.6/dist-packages/ipykernel_launcher.py:5: SettingWithCopyWarning: \n",
            "A value is trying to be set on a copy of a slice from a DataFrame.\n",
            "Try using .loc[row_indexer,col_indexer] = value instead\n",
            "\n",
            "See the caveats in the documentation: https://pandas.pydata.org/pandas-docs/stable/user_guide/indexing.html#returning-a-view-versus-a-copy\n",
            "  \"\"\"\n"
          ],
          "name": "stderr"
        }
      ]
    },
    {
      "cell_type": "code",
      "metadata": {
        "colab": {
          "base_uri": "https://localhost:8080/",
          "height": 419
        },
        "id": "Rh4kOAXn2VfU",
        "outputId": "a3bd2a3e-8900-4c45-af05-a5486101cdeb"
      },
      "source": [
        "df_bank"
      ],
      "execution_count": 27,
      "outputs": [
        {
          "output_type": "execute_result",
          "data": {
            "text/html": [
              "<div>\n",
              "<style scoped>\n",
              "    .dataframe tbody tr th:only-of-type {\n",
              "        vertical-align: middle;\n",
              "    }\n",
              "\n",
              "    .dataframe tbody tr th {\n",
              "        vertical-align: top;\n",
              "    }\n",
              "\n",
              "    .dataframe thead th {\n",
              "        text-align: right;\n",
              "    }\n",
              "</style>\n",
              "<table border=\"1\" class=\"dataframe\">\n",
              "  <thead>\n",
              "    <tr style=\"text-align: right;\">\n",
              "      <th></th>\n",
              "      <th>Tweet</th>\n",
              "      <th>Label</th>\n",
              "      <th>Tweet_Lower</th>\n",
              "      <th>Tweet_Rem</th>\n",
              "      <th>Tweet_Token</th>\n",
              "    </tr>\n",
              "  </thead>\n",
              "  <tbody>\n",
              "    <tr>\n",
              "      <th>0</th>\n",
              "      <td>RT @spardaxyz: Fadli Zon Minta Mendagri Segera...</td>\n",
              "      <td>0</td>\n",
              "      <td>rt @spardaxyz: fadli zon minta mendagri segera...</td>\n",
              "      <td>rt fadli zon minta mendagri segera menonaktifk...</td>\n",
              "      <td>[rt, fadli, zon, minta, mendagri, segera, meno...</td>\n",
              "    </tr>\n",
              "    <tr>\n",
              "      <th>1</th>\n",
              "      <td>RT @baguscondromowo: Mereka terus melukai aksi...</td>\n",
              "      <td>0</td>\n",
              "      <td>rt @baguscondromowo: mereka terus melukai aksi...</td>\n",
              "      <td>rt mereka terus melukai aksi dalam rangka meme...</td>\n",
              "      <td>[rt, mereka, terus, melukai, aksi, dalam, rang...</td>\n",
              "    </tr>\n",
              "    <tr>\n",
              "      <th>2</th>\n",
              "      <td>Sylvi: bagaimana gurbernur melakukan kekerasan...</td>\n",
              "      <td>0</td>\n",
              "      <td>sylvi: bagaimana gurbernur melakukan kekerasan...</td>\n",
              "      <td>sylvi bagaimana gurbernur melakukan kekerasan ...</td>\n",
              "      <td>[sylvi, bagaimana, gurbernur, melakukan, keker...</td>\n",
              "    </tr>\n",
              "    <tr>\n",
              "      <th>3</th>\n",
              "      <td>Ahmad Dhani Tak Puas Debat Pilkada, Masalah Ja...</td>\n",
              "      <td>0</td>\n",
              "      <td>ahmad dhani tak puas debat pilkada, masalah ja...</td>\n",
              "      <td>ahmad dhani tak puas debat pilkada masalah jal...</td>\n",
              "      <td>[ahmad, dhani, tak, puas, debat, pilkada, masa...</td>\n",
              "    </tr>\n",
              "    <tr>\n",
              "      <th>4</th>\n",
              "      <td>RT @lisdaulay28: Waspada KTP palsu.....kawal P...</td>\n",
              "      <td>0</td>\n",
              "      <td>rt @lisdaulay28: waspada ktp palsu.....kawal p...</td>\n",
              "      <td>rt waspada ktp palsukawal pilkada</td>\n",
              "      <td>[rt, waspada, ktp, palsukawal, pilkada]</td>\n",
              "    </tr>\n",
              "    <tr>\n",
              "      <th>...</th>\n",
              "      <td>...</td>\n",
              "      <td>...</td>\n",
              "      <td>...</td>\n",
              "      <td>...</td>\n",
              "      <td>...</td>\n",
              "    </tr>\n",
              "    <tr>\n",
              "      <th>708</th>\n",
              "      <td>Muka Si BABi Ahok Tuh Yg Mirip SERBET Lantai.....</td>\n",
              "      <td>1</td>\n",
              "      <td>muka si babi ahok tuh yg mirip serbet lantai.....</td>\n",
              "      <td>muka si babi ahok tuh yg mirip serbet lantai btp</td>\n",
              "      <td>[muka, si, babi, ahok, tuh, yg, mirip, serbet,...</td>\n",
              "    </tr>\n",
              "    <tr>\n",
              "      <th>709</th>\n",
              "      <td>Betul bang hancurkan merka bang, musnahkan chi...</td>\n",
              "      <td>1</td>\n",
              "      <td>betul bang hancurkan merka bang, musnahkan chi...</td>\n",
              "      <td>betul bang hancurkan merka bang musnahkan chin...</td>\n",
              "      <td>[betul, bang, hancurkan, merka, bang, musnahka...</td>\n",
              "    </tr>\n",
              "    <tr>\n",
              "      <th>710</th>\n",
              "      <td>Sapa Yg bilang Ahok anti korupsi!?, klo grombo...</td>\n",
              "      <td>1</td>\n",
              "      <td>sapa yg bilang ahok anti korupsi!?, klo grombo...</td>\n",
              "      <td>sapa yg bilang ahok anti korupsi klo grombolan...</td>\n",
              "      <td>[sapa, yg, bilang, ahok, anti, korupsi, klo, g...</td>\n",
              "    </tr>\n",
              "    <tr>\n",
              "      <th>711</th>\n",
              "      <td>Gw juga ngimpi SENTILIN BIJI BABI AHOK, pcetar...</td>\n",
              "      <td>1</td>\n",
              "      <td>gw juga ngimpi sentilin biji babi ahok, pcetar...</td>\n",
              "      <td>gw juga ngimpi sentilin biji babi ahok pcetar ...</td>\n",
              "      <td>[gw, juga, ngimpi, sentilin, biji, babi, ahok,...</td>\n",
              "    </tr>\n",
              "    <tr>\n",
              "      <th>712</th>\n",
              "      <td>Mudah2an gw ketemu sama SI BABI IWAN BOPENG DI...</td>\n",
              "      <td>1</td>\n",
              "      <td>mudah2an gw ketemu sama si babi iwan bopeng di...</td>\n",
              "      <td>mudahan gw ketemu sama si babi iwan bopeng di ...</td>\n",
              "      <td>[mudahan, gw, ketemu, sama, si, babi, iwan, bo...</td>\n",
              "    </tr>\n",
              "  </tbody>\n",
              "</table>\n",
              "<p>713 rows × 5 columns</p>\n",
              "</div>"
            ],
            "text/plain": [
              "                                                 Tweet  ...                                        Tweet_Token\n",
              "0    RT @spardaxyz: Fadli Zon Minta Mendagri Segera...  ...  [rt, fadli, zon, minta, mendagri, segera, meno...\n",
              "1    RT @baguscondromowo: Mereka terus melukai aksi...  ...  [rt, mereka, terus, melukai, aksi, dalam, rang...\n",
              "2    Sylvi: bagaimana gurbernur melakukan kekerasan...  ...  [sylvi, bagaimana, gurbernur, melakukan, keker...\n",
              "3    Ahmad Dhani Tak Puas Debat Pilkada, Masalah Ja...  ...  [ahmad, dhani, tak, puas, debat, pilkada, masa...\n",
              "4    RT @lisdaulay28: Waspada KTP palsu.....kawal P...  ...            [rt, waspada, ktp, palsukawal, pilkada]\n",
              "..                                                 ...  ...                                                ...\n",
              "708  Muka Si BABi Ahok Tuh Yg Mirip SERBET Lantai.....  ...  [muka, si, babi, ahok, tuh, yg, mirip, serbet,...\n",
              "709  Betul bang hancurkan merka bang, musnahkan chi...  ...  [betul, bang, hancurkan, merka, bang, musnahka...\n",
              "710  Sapa Yg bilang Ahok anti korupsi!?, klo grombo...  ...  [sapa, yg, bilang, ahok, anti, korupsi, klo, g...\n",
              "711  Gw juga ngimpi SENTILIN BIJI BABI AHOK, pcetar...  ...  [gw, juga, ngimpi, sentilin, biji, babi, ahok,...\n",
              "712  Mudah2an gw ketemu sama SI BABI IWAN BOPENG DI...  ...  [mudahan, gw, ketemu, sama, si, babi, iwan, bo...\n",
              "\n",
              "[713 rows x 5 columns]"
            ]
          },
          "metadata": {
            "tags": []
          },
          "execution_count": 27
        }
      ]
    },
    {
      "cell_type": "code",
      "metadata": {
        "id": "QDl1ybAU25Ks"
      },
      "source": [
        "df_bank.to_csv('filename.csv') \n",
        "files.download('filename.csv')"
      ],
      "execution_count": null,
      "outputs": []
    },
    {
      "cell_type": "markdown",
      "metadata": {
        "id": "2eups6PFPH1G"
      },
      "source": [
        "**Stopwords**"
      ]
    },
    {
      "cell_type": "markdown",
      "metadata": {
        "id": "FTtt-BSuPVfT"
      },
      "source": [
        "Disini saya akan melakukan text cleansing stopwords bahasa indonesia dari stopwords yang ada dan juga yang telah saya tambahkan secara manual"
      ]
    },
    {
      "cell_type": "code",
      "metadata": {
        "id": "Zxj8lJKH9wOD",
        "colab": {
          "base_uri": "https://localhost:8080/"
        },
        "outputId": "aafab0c3-059a-4e4d-d41a-2c6c12189ad9"
      },
      "source": [
        "list_stopwords = stopwords.words('indonesian')\n",
        "\n",
        "list_stopwords.extend([\"yg\", \"dg\", \"rt\", \"dgn\", \"ny\", \"d\", 'klo', \n",
        "                       'kalo', 'amp', 'biar', 'bikin', 'bilang', \n",
        "                       'gak', 'ga', 'krn', 'nya', 'nih', 'sih', \n",
        "                       'si', 'tau', 'tdk', 'tuh', 'utk', 'ya', \n",
        "                       'jd', 'jgn', 'sdh', 'aja', 'n', 't', \n",
        "                       'nyg', 'hehe', 'pen', 'u', 'nan', 'loh', 'rt',\n",
        "                       '&amp', 'yah'])\n",
        "\n",
        "list_stopwords = set(list_stopwords)\n",
        "\n",
        "def stopwords_removal(words):\n",
        "    return [word for word in words if word not in list_stopwords]\n",
        "\n",
        "df_bank['Tweet_Token_Stopwords'] = df_bank['Tweet_Token'].apply(stopwords_removal)"
      ],
      "execution_count": 28,
      "outputs": [
        {
          "output_type": "stream",
          "text": [
            "/usr/local/lib/python3.6/dist-packages/ipykernel_launcher.py:16: SettingWithCopyWarning: \n",
            "A value is trying to be set on a copy of a slice from a DataFrame.\n",
            "Try using .loc[row_indexer,col_indexer] = value instead\n",
            "\n",
            "See the caveats in the documentation: https://pandas.pydata.org/pandas-docs/stable/user_guide/indexing.html#returning-a-view-versus-a-copy\n",
            "  app.launch_new_instance()\n"
          ],
          "name": "stderr"
        }
      ]
    },
    {
      "cell_type": "code",
      "metadata": {
        "colab": {
          "base_uri": "https://localhost:8080/",
          "height": 589
        },
        "id": "2Nyxp4pvAXhm",
        "outputId": "16809679-2189-4dc1-e707-a035fa5d5efd"
      },
      "source": [
        "df_bank"
      ],
      "execution_count": 29,
      "outputs": [
        {
          "output_type": "execute_result",
          "data": {
            "text/html": [
              "<div>\n",
              "<style scoped>\n",
              "    .dataframe tbody tr th:only-of-type {\n",
              "        vertical-align: middle;\n",
              "    }\n",
              "\n",
              "    .dataframe tbody tr th {\n",
              "        vertical-align: top;\n",
              "    }\n",
              "\n",
              "    .dataframe thead th {\n",
              "        text-align: right;\n",
              "    }\n",
              "</style>\n",
              "<table border=\"1\" class=\"dataframe\">\n",
              "  <thead>\n",
              "    <tr style=\"text-align: right;\">\n",
              "      <th></th>\n",
              "      <th>Tweet</th>\n",
              "      <th>Label</th>\n",
              "      <th>Tweet_Lower</th>\n",
              "      <th>Tweet_Rem</th>\n",
              "      <th>Tweet_Token</th>\n",
              "      <th>Tweet_Token_Stopwords</th>\n",
              "    </tr>\n",
              "  </thead>\n",
              "  <tbody>\n",
              "    <tr>\n",
              "      <th>0</th>\n",
              "      <td>RT @spardaxyz: Fadli Zon Minta Mendagri Segera...</td>\n",
              "      <td>0</td>\n",
              "      <td>rt @spardaxyz: fadli zon minta mendagri segera...</td>\n",
              "      <td>rt fadli zon minta mendagri segera menonaktifk...</td>\n",
              "      <td>[rt, fadli, zon, minta, mendagri, segera, meno...</td>\n",
              "      <td>[fadli, zon, mendagri, menonaktifkan, ahok, gu...</td>\n",
              "    </tr>\n",
              "    <tr>\n",
              "      <th>1</th>\n",
              "      <td>RT @baguscondromowo: Mereka terus melukai aksi...</td>\n",
              "      <td>0</td>\n",
              "      <td>rt @baguscondromowo: mereka terus melukai aksi...</td>\n",
              "      <td>rt mereka terus melukai aksi dalam rangka meme...</td>\n",
              "      <td>[rt, mereka, terus, melukai, aksi, dalam, rang...</td>\n",
              "      <td>[melukai, aksi, rangka, memenjarakan, ahok, ah...</td>\n",
              "    </tr>\n",
              "    <tr>\n",
              "      <th>2</th>\n",
              "      <td>Sylvi: bagaimana gurbernur melakukan kekerasan...</td>\n",
              "      <td>0</td>\n",
              "      <td>sylvi: bagaimana gurbernur melakukan kekerasan...</td>\n",
              "      <td>sylvi bagaimana gurbernur melakukan kekerasan ...</td>\n",
              "      <td>[sylvi, bagaimana, gurbernur, melakukan, keker...</td>\n",
              "      <td>[sylvi, gurbernur, kekerasan, perempuan, bukti...</td>\n",
              "    </tr>\n",
              "    <tr>\n",
              "      <th>3</th>\n",
              "      <td>Ahmad Dhani Tak Puas Debat Pilkada, Masalah Ja...</td>\n",
              "      <td>0</td>\n",
              "      <td>ahmad dhani tak puas debat pilkada, masalah ja...</td>\n",
              "      <td>ahmad dhani tak puas debat pilkada masalah jal...</td>\n",
              "      <td>[ahmad, dhani, tak, puas, debat, pilkada, masa...</td>\n",
              "      <td>[ahmad, dhani, puas, debat, pilkada, jalan, be...</td>\n",
              "    </tr>\n",
              "    <tr>\n",
              "      <th>4</th>\n",
              "      <td>RT @lisdaulay28: Waspada KTP palsu.....kawal P...</td>\n",
              "      <td>0</td>\n",
              "      <td>rt @lisdaulay28: waspada ktp palsu.....kawal p...</td>\n",
              "      <td>rt waspada ktp palsukawal pilkada</td>\n",
              "      <td>[rt, waspada, ktp, palsukawal, pilkada]</td>\n",
              "      <td>[waspada, ktp, palsukawal, pilkada]</td>\n",
              "    </tr>\n",
              "    <tr>\n",
              "      <th>...</th>\n",
              "      <td>...</td>\n",
              "      <td>...</td>\n",
              "      <td>...</td>\n",
              "      <td>...</td>\n",
              "      <td>...</td>\n",
              "      <td>...</td>\n",
              "    </tr>\n",
              "    <tr>\n",
              "      <th>708</th>\n",
              "      <td>Muka Si BABi Ahok Tuh Yg Mirip SERBET Lantai.....</td>\n",
              "      <td>1</td>\n",
              "      <td>muka si babi ahok tuh yg mirip serbet lantai.....</td>\n",
              "      <td>muka si babi ahok tuh yg mirip serbet lantai btp</td>\n",
              "      <td>[muka, si, babi, ahok, tuh, yg, mirip, serbet,...</td>\n",
              "      <td>[muka, babi, ahok, serbet, lantai, btp]</td>\n",
              "    </tr>\n",
              "    <tr>\n",
              "      <th>709</th>\n",
              "      <td>Betul bang hancurkan merka bang, musnahkan chi...</td>\n",
              "      <td>1</td>\n",
              "      <td>betul bang hancurkan merka bang, musnahkan chi...</td>\n",
              "      <td>betul bang hancurkan merka bang musnahkan chin...</td>\n",
              "      <td>[betul, bang, hancurkan, merka, bang, musnahka...</td>\n",
              "      <td>[bang, hancurkan, merka, bang, musnahkan, chin...</td>\n",
              "    </tr>\n",
              "    <tr>\n",
              "      <th>710</th>\n",
              "      <td>Sapa Yg bilang Ahok anti korupsi!?, klo grombo...</td>\n",
              "      <td>1</td>\n",
              "      <td>sapa yg bilang ahok anti korupsi!?, klo grombo...</td>\n",
              "      <td>sapa yg bilang ahok anti korupsi klo grombolan...</td>\n",
              "      <td>[sapa, yg, bilang, ahok, anti, korupsi, klo, g...</td>\n",
              "      <td>[sapa, ahok, anti, korupsi, grombolannya, ngom...</td>\n",
              "    </tr>\n",
              "    <tr>\n",
              "      <th>711</th>\n",
              "      <td>Gw juga ngimpi SENTILIN BIJI BABI AHOK, pcetar...</td>\n",
              "      <td>1</td>\n",
              "      <td>gw juga ngimpi sentilin biji babi ahok, pcetar...</td>\n",
              "      <td>gw juga ngimpi sentilin biji babi ahok pcetar ...</td>\n",
              "      <td>[gw, juga, ngimpi, sentilin, biji, babi, ahok,...</td>\n",
              "      <td>[gw, ngimpi, sentilin, biji, babi, ahok, pceta...</td>\n",
              "    </tr>\n",
              "    <tr>\n",
              "      <th>712</th>\n",
              "      <td>Mudah2an gw ketemu sama SI BABI IWAN BOPENG DI...</td>\n",
              "      <td>1</td>\n",
              "      <td>mudah2an gw ketemu sama si babi iwan bopeng di...</td>\n",
              "      <td>mudahan gw ketemu sama si babi iwan bopeng di ...</td>\n",
              "      <td>[mudahan, gw, ketemu, sama, si, babi, iwan, bo...</td>\n",
              "      <td>[mudahan, gw, ketemu, babi, iwan, bopeng, tps,...</td>\n",
              "    </tr>\n",
              "  </tbody>\n",
              "</table>\n",
              "<p>713 rows × 6 columns</p>\n",
              "</div>"
            ],
            "text/plain": [
              "                                                 Tweet  ...                              Tweet_Token_Stopwords\n",
              "0    RT @spardaxyz: Fadli Zon Minta Mendagri Segera...  ...  [fadli, zon, mendagri, menonaktifkan, ahok, gu...\n",
              "1    RT @baguscondromowo: Mereka terus melukai aksi...  ...  [melukai, aksi, rangka, memenjarakan, ahok, ah...\n",
              "2    Sylvi: bagaimana gurbernur melakukan kekerasan...  ...  [sylvi, gurbernur, kekerasan, perempuan, bukti...\n",
              "3    Ahmad Dhani Tak Puas Debat Pilkada, Masalah Ja...  ...  [ahmad, dhani, puas, debat, pilkada, jalan, be...\n",
              "4    RT @lisdaulay28: Waspada KTP palsu.....kawal P...  ...                [waspada, ktp, palsukawal, pilkada]\n",
              "..                                                 ...  ...                                                ...\n",
              "708  Muka Si BABi Ahok Tuh Yg Mirip SERBET Lantai.....  ...            [muka, babi, ahok, serbet, lantai, btp]\n",
              "709  Betul bang hancurkan merka bang, musnahkan chi...  ...  [bang, hancurkan, merka, bang, musnahkan, chin...\n",
              "710  Sapa Yg bilang Ahok anti korupsi!?, klo grombo...  ...  [sapa, ahok, anti, korupsi, grombolannya, ngom...\n",
              "711  Gw juga ngimpi SENTILIN BIJI BABI AHOK, pcetar...  ...  [gw, ngimpi, sentilin, biji, babi, ahok, pceta...\n",
              "712  Mudah2an gw ketemu sama SI BABI IWAN BOPENG DI...  ...  [mudahan, gw, ketemu, babi, iwan, bopeng, tps,...\n",
              "\n",
              "[713 rows x 6 columns]"
            ]
          },
          "metadata": {
            "tags": []
          },
          "execution_count": 29
        }
      ]
    },
    {
      "cell_type": "markdown",
      "metadata": {
        "id": "sakfRjPQPvRa"
      },
      "source": [
        "**Stemming**"
      ]
    },
    {
      "cell_type": "markdown",
      "metadata": {
        "id": "iiOsv6jMQOsj"
      },
      "source": [
        "Disini saya akan melakukan stemming bahasa indonesia"
      ]
    },
    {
      "cell_type": "code",
      "metadata": {
        "colab": {
          "base_uri": "https://localhost:8080/"
        },
        "id": "ixasm9eh4QJW",
        "outputId": "8c941510-8210-4069-a409-6c42d163057b"
      },
      "source": [
        "factory = StemmerFactory()\n",
        "stemmer = factory.create_stemmer()\n",
        "df_bank['Tweet_Token_Stem'] = df_bank['Tweet_Token_Stopwords'].apply(lambda x: [stemmer.stem(y) for y in x])"
      ],
      "execution_count": 30,
      "outputs": [
        {
          "output_type": "stream",
          "text": [
            "/usr/local/lib/python3.6/dist-packages/ipykernel_launcher.py:3: SettingWithCopyWarning: \n",
            "A value is trying to be set on a copy of a slice from a DataFrame.\n",
            "Try using .loc[row_indexer,col_indexer] = value instead\n",
            "\n",
            "See the caveats in the documentation: https://pandas.pydata.org/pandas-docs/stable/user_guide/indexing.html#returning-a-view-versus-a-copy\n",
            "  This is separate from the ipykernel package so we can avoid doing imports until\n"
          ],
          "name": "stderr"
        }
      ]
    },
    {
      "cell_type": "code",
      "metadata": {
        "colab": {
          "base_uri": "https://localhost:8080/",
          "height": 589
        },
        "id": "MFmkSxJVH719",
        "outputId": "17a209c8-1516-4040-d1e2-053cb05faac6"
      },
      "source": [
        "df_bank"
      ],
      "execution_count": 31,
      "outputs": [
        {
          "output_type": "execute_result",
          "data": {
            "text/html": [
              "<div>\n",
              "<style scoped>\n",
              "    .dataframe tbody tr th:only-of-type {\n",
              "        vertical-align: middle;\n",
              "    }\n",
              "\n",
              "    .dataframe tbody tr th {\n",
              "        vertical-align: top;\n",
              "    }\n",
              "\n",
              "    .dataframe thead th {\n",
              "        text-align: right;\n",
              "    }\n",
              "</style>\n",
              "<table border=\"1\" class=\"dataframe\">\n",
              "  <thead>\n",
              "    <tr style=\"text-align: right;\">\n",
              "      <th></th>\n",
              "      <th>Tweet</th>\n",
              "      <th>Label</th>\n",
              "      <th>Tweet_Lower</th>\n",
              "      <th>Tweet_Rem</th>\n",
              "      <th>Tweet_Token</th>\n",
              "      <th>Tweet_Token_Stopwords</th>\n",
              "      <th>Tweet_Token_Stem</th>\n",
              "    </tr>\n",
              "  </thead>\n",
              "  <tbody>\n",
              "    <tr>\n",
              "      <th>0</th>\n",
              "      <td>RT @spardaxyz: Fadli Zon Minta Mendagri Segera...</td>\n",
              "      <td>0</td>\n",
              "      <td>rt @spardaxyz: fadli zon minta mendagri segera...</td>\n",
              "      <td>rt fadli zon minta mendagri segera menonaktifk...</td>\n",
              "      <td>[rt, fadli, zon, minta, mendagri, segera, meno...</td>\n",
              "      <td>[fadli, zon, mendagri, menonaktifkan, ahok, gu...</td>\n",
              "      <td>[fadli, zon, mendagri, nonaktif, ahok, gubernu...</td>\n",
              "    </tr>\n",
              "    <tr>\n",
              "      <th>1</th>\n",
              "      <td>RT @baguscondromowo: Mereka terus melukai aksi...</td>\n",
              "      <td>0</td>\n",
              "      <td>rt @baguscondromowo: mereka terus melukai aksi...</td>\n",
              "      <td>rt mereka terus melukai aksi dalam rangka meme...</td>\n",
              "      <td>[rt, mereka, terus, melukai, aksi, dalam, rang...</td>\n",
              "      <td>[melukai, aksi, rangka, memenjarakan, ahok, ah...</td>\n",
              "      <td>[luka, aksi, rangka, penjara, ahok, ahok, gaga...</td>\n",
              "    </tr>\n",
              "    <tr>\n",
              "      <th>2</th>\n",
              "      <td>Sylvi: bagaimana gurbernur melakukan kekerasan...</td>\n",
              "      <td>0</td>\n",
              "      <td>sylvi: bagaimana gurbernur melakukan kekerasan...</td>\n",
              "      <td>sylvi bagaimana gurbernur melakukan kekerasan ...</td>\n",
              "      <td>[sylvi, bagaimana, gurbernur, melakukan, keker...</td>\n",
              "      <td>[sylvi, gurbernur, kekerasan, perempuan, bukti...</td>\n",
              "      <td>[sylvi, gurbernur, keras, perempuan, bukti, fo...</td>\n",
              "    </tr>\n",
              "    <tr>\n",
              "      <th>3</th>\n",
              "      <td>Ahmad Dhani Tak Puas Debat Pilkada, Masalah Ja...</td>\n",
              "      <td>0</td>\n",
              "      <td>ahmad dhani tak puas debat pilkada, masalah ja...</td>\n",
              "      <td>ahmad dhani tak puas debat pilkada masalah jal...</td>\n",
              "      <td>[ahmad, dhani, tak, puas, debat, pilkada, masa...</td>\n",
              "      <td>[ahmad, dhani, puas, debat, pilkada, jalan, be...</td>\n",
              "      <td>[ahmad, dhani, puas, debat, pilkada, jalan, be...</td>\n",
              "    </tr>\n",
              "    <tr>\n",
              "      <th>4</th>\n",
              "      <td>RT @lisdaulay28: Waspada KTP palsu.....kawal P...</td>\n",
              "      <td>0</td>\n",
              "      <td>rt @lisdaulay28: waspada ktp palsu.....kawal p...</td>\n",
              "      <td>rt waspada ktp palsukawal pilkada</td>\n",
              "      <td>[rt, waspada, ktp, palsukawal, pilkada]</td>\n",
              "      <td>[waspada, ktp, palsukawal, pilkada]</td>\n",
              "      <td>[waspada, ktp, palsukawal, pilkada]</td>\n",
              "    </tr>\n",
              "    <tr>\n",
              "      <th>...</th>\n",
              "      <td>...</td>\n",
              "      <td>...</td>\n",
              "      <td>...</td>\n",
              "      <td>...</td>\n",
              "      <td>...</td>\n",
              "      <td>...</td>\n",
              "      <td>...</td>\n",
              "    </tr>\n",
              "    <tr>\n",
              "      <th>708</th>\n",
              "      <td>Muka Si BABi Ahok Tuh Yg Mirip SERBET Lantai.....</td>\n",
              "      <td>1</td>\n",
              "      <td>muka si babi ahok tuh yg mirip serbet lantai.....</td>\n",
              "      <td>muka si babi ahok tuh yg mirip serbet lantai btp</td>\n",
              "      <td>[muka, si, babi, ahok, tuh, yg, mirip, serbet,...</td>\n",
              "      <td>[muka, babi, ahok, serbet, lantai, btp]</td>\n",
              "      <td>[muka, babi, ahok, serbet, lantai, btp]</td>\n",
              "    </tr>\n",
              "    <tr>\n",
              "      <th>709</th>\n",
              "      <td>Betul bang hancurkan merka bang, musnahkan chi...</td>\n",
              "      <td>1</td>\n",
              "      <td>betul bang hancurkan merka bang, musnahkan chi...</td>\n",
              "      <td>betul bang hancurkan merka bang musnahkan chin...</td>\n",
              "      <td>[betul, bang, hancurkan, merka, bang, musnahka...</td>\n",
              "      <td>[bang, hancurkan, merka, bang, musnahkan, chin...</td>\n",
              "      <td>[bang, hancur, merka, bang, musnah, china, bab...</td>\n",
              "    </tr>\n",
              "    <tr>\n",
              "      <th>710</th>\n",
              "      <td>Sapa Yg bilang Ahok anti korupsi!?, klo grombo...</td>\n",
              "      <td>1</td>\n",
              "      <td>sapa yg bilang ahok anti korupsi!?, klo grombo...</td>\n",
              "      <td>sapa yg bilang ahok anti korupsi klo grombolan...</td>\n",
              "      <td>[sapa, yg, bilang, ahok, anti, korupsi, klo, g...</td>\n",
              "      <td>[sapa, ahok, anti, korupsi, grombolannya, ngom...</td>\n",
              "      <td>[sapa, ahok, anti, korupsi, grombolannya, ngom...</td>\n",
              "    </tr>\n",
              "    <tr>\n",
              "      <th>711</th>\n",
              "      <td>Gw juga ngimpi SENTILIN BIJI BABI AHOK, pcetar...</td>\n",
              "      <td>1</td>\n",
              "      <td>gw juga ngimpi sentilin biji babi ahok, pcetar...</td>\n",
              "      <td>gw juga ngimpi sentilin biji babi ahok pcetar ...</td>\n",
              "      <td>[gw, juga, ngimpi, sentilin, biji, babi, ahok,...</td>\n",
              "      <td>[gw, ngimpi, sentilin, biji, babi, ahok, pceta...</td>\n",
              "      <td>[gw, ngimpi, sentilin, biji, babi, ahok, pceta...</td>\n",
              "    </tr>\n",
              "    <tr>\n",
              "      <th>712</th>\n",
              "      <td>Mudah2an gw ketemu sama SI BABI IWAN BOPENG DI...</td>\n",
              "      <td>1</td>\n",
              "      <td>mudah2an gw ketemu sama si babi iwan bopeng di...</td>\n",
              "      <td>mudahan gw ketemu sama si babi iwan bopeng di ...</td>\n",
              "      <td>[mudahan, gw, ketemu, sama, si, babi, iwan, bo...</td>\n",
              "      <td>[mudahan, gw, ketemu, babi, iwan, bopeng, tps,...</td>\n",
              "      <td>[mudah, gw, ketemu, babi, iwan, bopeng, tps, a...</td>\n",
              "    </tr>\n",
              "  </tbody>\n",
              "</table>\n",
              "<p>713 rows × 7 columns</p>\n",
              "</div>"
            ],
            "text/plain": [
              "                                                 Tweet  ...                                   Tweet_Token_Stem\n",
              "0    RT @spardaxyz: Fadli Zon Minta Mendagri Segera...  ...  [fadli, zon, mendagri, nonaktif, ahok, gubernu...\n",
              "1    RT @baguscondromowo: Mereka terus melukai aksi...  ...  [luka, aksi, rangka, penjara, ahok, ahok, gaga...\n",
              "2    Sylvi: bagaimana gurbernur melakukan kekerasan...  ...  [sylvi, gurbernur, keras, perempuan, bukti, fo...\n",
              "3    Ahmad Dhani Tak Puas Debat Pilkada, Masalah Ja...  ...  [ahmad, dhani, puas, debat, pilkada, jalan, be...\n",
              "4    RT @lisdaulay28: Waspada KTP palsu.....kawal P...  ...                [waspada, ktp, palsukawal, pilkada]\n",
              "..                                                 ...  ...                                                ...\n",
              "708  Muka Si BABi Ahok Tuh Yg Mirip SERBET Lantai.....  ...            [muka, babi, ahok, serbet, lantai, btp]\n",
              "709  Betul bang hancurkan merka bang, musnahkan chi...  ...  [bang, hancur, merka, bang, musnah, china, bab...\n",
              "710  Sapa Yg bilang Ahok anti korupsi!?, klo grombo...  ...  [sapa, ahok, anti, korupsi, grombolannya, ngom...\n",
              "711  Gw juga ngimpi SENTILIN BIJI BABI AHOK, pcetar...  ...  [gw, ngimpi, sentilin, biji, babi, ahok, pceta...\n",
              "712  Mudah2an gw ketemu sama SI BABI IWAN BOPENG DI...  ...  [mudah, gw, ketemu, babi, iwan, bopeng, tps, a...\n",
              "\n",
              "[713 rows x 7 columns]"
            ]
          },
          "metadata": {
            "tags": []
          },
          "execution_count": 31
        }
      ]
    },
    {
      "cell_type": "markdown",
      "metadata": {
        "id": "HDp56BWCXN-I"
      },
      "source": [
        "**To String and Sorted**"
      ]
    },
    {
      "cell_type": "code",
      "metadata": {
        "id": "48mJHskmFyMy",
        "colab": {
          "base_uri": "https://localhost:8080/"
        },
        "outputId": "e7a3f42f-9dca-40dc-d3d0-02673a206707"
      },
      "source": [
        "df_bank['Tweet_String'] = df_bank['Tweet_Token_Stem'].apply(' '.join)"
      ],
      "execution_count": 33,
      "outputs": [
        {
          "output_type": "stream",
          "text": [
            "/usr/local/lib/python3.6/dist-packages/ipykernel_launcher.py:1: SettingWithCopyWarning: \n",
            "A value is trying to be set on a copy of a slice from a DataFrame.\n",
            "Try using .loc[row_indexer,col_indexer] = value instead\n",
            "\n",
            "See the caveats in the documentation: https://pandas.pydata.org/pandas-docs/stable/user_guide/indexing.html#returning-a-view-versus-a-copy\n",
            "  \"\"\"Entry point for launching an IPython kernel.\n"
          ],
          "name": "stderr"
        }
      ]
    },
    {
      "cell_type": "code",
      "metadata": {
        "id": "Bkh6M_F_4ESy"
      },
      "source": [
        "df_bank = df_bank[['Tweet','Tweet_Lower','Tweet_Rem','Tweet_Token','Tweet_Token_Stopwords','Tweet_Token_Stem','Tweet_String','Label']]"
      ],
      "execution_count": 35,
      "outputs": []
    },
    {
      "cell_type": "code",
      "metadata": {
        "colab": {
          "base_uri": "https://localhost:8080/",
          "height": 606
        },
        "id": "ZrVHE5bN4Ijf",
        "outputId": "02e4447d-cc53-49fb-f83d-5ac227ab8f93"
      },
      "source": [
        "df_bank"
      ],
      "execution_count": 36,
      "outputs": [
        {
          "output_type": "execute_result",
          "data": {
            "text/html": [
              "<div>\n",
              "<style scoped>\n",
              "    .dataframe tbody tr th:only-of-type {\n",
              "        vertical-align: middle;\n",
              "    }\n",
              "\n",
              "    .dataframe tbody tr th {\n",
              "        vertical-align: top;\n",
              "    }\n",
              "\n",
              "    .dataframe thead th {\n",
              "        text-align: right;\n",
              "    }\n",
              "</style>\n",
              "<table border=\"1\" class=\"dataframe\">\n",
              "  <thead>\n",
              "    <tr style=\"text-align: right;\">\n",
              "      <th></th>\n",
              "      <th>Tweet</th>\n",
              "      <th>Tweet_Lower</th>\n",
              "      <th>Tweet_Rem</th>\n",
              "      <th>Tweet_Token</th>\n",
              "      <th>Tweet_Token_Stopwords</th>\n",
              "      <th>Tweet_Token_Stem</th>\n",
              "      <th>Tweet_String</th>\n",
              "      <th>Label</th>\n",
              "    </tr>\n",
              "  </thead>\n",
              "  <tbody>\n",
              "    <tr>\n",
              "      <th>0</th>\n",
              "      <td>RT @spardaxyz: Fadli Zon Minta Mendagri Segera...</td>\n",
              "      <td>rt @spardaxyz: fadli zon minta mendagri segera...</td>\n",
              "      <td>rt fadli zon minta mendagri segera menonaktifk...</td>\n",
              "      <td>[rt, fadli, zon, minta, mendagri, segera, meno...</td>\n",
              "      <td>[fadli, zon, mendagri, menonaktifkan, ahok, gu...</td>\n",
              "      <td>[fadli, zon, mendagri, nonaktif, ahok, gubernu...</td>\n",
              "      <td>fadli zon mendagri nonaktif ahok gubernur dki</td>\n",
              "      <td>0</td>\n",
              "    </tr>\n",
              "    <tr>\n",
              "      <th>1</th>\n",
              "      <td>RT @baguscondromowo: Mereka terus melukai aksi...</td>\n",
              "      <td>rt @baguscondromowo: mereka terus melukai aksi...</td>\n",
              "      <td>rt mereka terus melukai aksi dalam rangka meme...</td>\n",
              "      <td>[rt, mereka, terus, melukai, aksi, dalam, rang...</td>\n",
              "      <td>[melukai, aksi, rangka, memenjarakan, ahok, ah...</td>\n",
              "      <td>[luka, aksi, rangka, penjara, ahok, ahok, gaga...</td>\n",
              "      <td>luka aksi rangka penjara ahok ahok gagal pilkada</td>\n",
              "      <td>0</td>\n",
              "    </tr>\n",
              "    <tr>\n",
              "      <th>2</th>\n",
              "      <td>Sylvi: bagaimana gurbernur melakukan kekerasan...</td>\n",
              "      <td>sylvi: bagaimana gurbernur melakukan kekerasan...</td>\n",
              "      <td>sylvi bagaimana gurbernur melakukan kekerasan ...</td>\n",
              "      <td>[sylvi, bagaimana, gurbernur, melakukan, keker...</td>\n",
              "      <td>[sylvi, gurbernur, kekerasan, perempuan, bukti...</td>\n",
              "      <td>[sylvi, gurbernur, keras, perempuan, bukti, fo...</td>\n",
              "      <td>sylvi gurbernur keras perempuan bukti foto bareng</td>\n",
              "      <td>0</td>\n",
              "    </tr>\n",
              "    <tr>\n",
              "      <th>3</th>\n",
              "      <td>Ahmad Dhani Tak Puas Debat Pilkada, Masalah Ja...</td>\n",
              "      <td>ahmad dhani tak puas debat pilkada, masalah ja...</td>\n",
              "      <td>ahmad dhani tak puas debat pilkada masalah jal...</td>\n",
              "      <td>[ahmad, dhani, tak, puas, debat, pilkada, masa...</td>\n",
              "      <td>[ahmad, dhani, puas, debat, pilkada, jalan, be...</td>\n",
              "      <td>[ahmad, dhani, puas, debat, pilkada, jalan, be...</td>\n",
              "      <td>ahmad dhani puas debat pilkada jalan bekas ungkap</td>\n",
              "      <td>0</td>\n",
              "    </tr>\n",
              "    <tr>\n",
              "      <th>4</th>\n",
              "      <td>RT @lisdaulay28: Waspada KTP palsu.....kawal P...</td>\n",
              "      <td>rt @lisdaulay28: waspada ktp palsu.....kawal p...</td>\n",
              "      <td>rt waspada ktp palsukawal pilkada</td>\n",
              "      <td>[rt, waspada, ktp, palsukawal, pilkada]</td>\n",
              "      <td>[waspada, ktp, palsukawal, pilkada]</td>\n",
              "      <td>[waspada, ktp, palsukawal, pilkada]</td>\n",
              "      <td>waspada ktp palsukawal pilkada</td>\n",
              "      <td>0</td>\n",
              "    </tr>\n",
              "    <tr>\n",
              "      <th>...</th>\n",
              "      <td>...</td>\n",
              "      <td>...</td>\n",
              "      <td>...</td>\n",
              "      <td>...</td>\n",
              "      <td>...</td>\n",
              "      <td>...</td>\n",
              "      <td>...</td>\n",
              "      <td>...</td>\n",
              "    </tr>\n",
              "    <tr>\n",
              "      <th>708</th>\n",
              "      <td>Muka Si BABi Ahok Tuh Yg Mirip SERBET Lantai.....</td>\n",
              "      <td>muka si babi ahok tuh yg mirip serbet lantai.....</td>\n",
              "      <td>muka si babi ahok tuh yg mirip serbet lantai btp</td>\n",
              "      <td>[muka, si, babi, ahok, tuh, yg, mirip, serbet,...</td>\n",
              "      <td>[muka, babi, ahok, serbet, lantai, btp]</td>\n",
              "      <td>[muka, babi, ahok, serbet, lantai, btp]</td>\n",
              "      <td>muka babi ahok serbet lantai btp</td>\n",
              "      <td>1</td>\n",
              "    </tr>\n",
              "    <tr>\n",
              "      <th>709</th>\n",
              "      <td>Betul bang hancurkan merka bang, musnahkan chi...</td>\n",
              "      <td>betul bang hancurkan merka bang, musnahkan chi...</td>\n",
              "      <td>betul bang hancurkan merka bang musnahkan chin...</td>\n",
              "      <td>[betul, bang, hancurkan, merka, bang, musnahka...</td>\n",
              "      <td>[bang, hancurkan, merka, bang, musnahkan, chin...</td>\n",
              "      <td>[bang, hancur, merka, bang, musnah, china, bab...</td>\n",
              "      <td>bang hancur merka bang musnah china babi bumi ...</td>\n",
              "      <td>1</td>\n",
              "    </tr>\n",
              "    <tr>\n",
              "      <th>710</th>\n",
              "      <td>Sapa Yg bilang Ahok anti korupsi!?, klo grombo...</td>\n",
              "      <td>sapa yg bilang ahok anti korupsi!?, klo grombo...</td>\n",
              "      <td>sapa yg bilang ahok anti korupsi klo grombolan...</td>\n",
              "      <td>[sapa, yg, bilang, ahok, anti, korupsi, klo, g...</td>\n",
              "      <td>[sapa, ahok, anti, korupsi, grombolannya, ngom...</td>\n",
              "      <td>[sapa, ahok, anti, korupsi, grombolannya, ngom...</td>\n",
              "      <td>sapa ahok anti korupsi grombolannya ngomong gt...</td>\n",
              "      <td>1</td>\n",
              "    </tr>\n",
              "    <tr>\n",
              "      <th>711</th>\n",
              "      <td>Gw juga ngimpi SENTILIN BIJI BABI AHOK, pcetar...</td>\n",
              "      <td>gw juga ngimpi sentilin biji babi ahok, pcetar...</td>\n",
              "      <td>gw juga ngimpi sentilin biji babi ahok pcetar ...</td>\n",
              "      <td>[gw, juga, ngimpi, sentilin, biji, babi, ahok,...</td>\n",
              "      <td>[gw, ngimpi, sentilin, biji, babi, ahok, pceta...</td>\n",
              "      <td>[gw, ngimpi, sentilin, biji, babi, ahok, pceta...</td>\n",
              "      <td>gw ngimpi sentilin biji babi ahok pcetar pceta...</td>\n",
              "      <td>1</td>\n",
              "    </tr>\n",
              "    <tr>\n",
              "      <th>712</th>\n",
              "      <td>Mudah2an gw ketemu sama SI BABI IWAN BOPENG DI...</td>\n",
              "      <td>mudah2an gw ketemu sama si babi iwan bopeng di...</td>\n",
              "      <td>mudahan gw ketemu sama si babi iwan bopeng di ...</td>\n",
              "      <td>[mudahan, gw, ketemu, sama, si, babi, iwan, bo...</td>\n",
              "      <td>[mudahan, gw, ketemu, babi, iwan, bopeng, tps,...</td>\n",
              "      <td>[mudah, gw, ketemu, babi, iwan, bopeng, tps, a...</td>\n",
              "      <td>mudah gw ketemu babi iwan bopeng tps anjing ahok</td>\n",
              "      <td>1</td>\n",
              "    </tr>\n",
              "  </tbody>\n",
              "</table>\n",
              "<p>713 rows × 8 columns</p>\n",
              "</div>"
            ],
            "text/plain": [
              "                                                 Tweet  ... Label\n",
              "0    RT @spardaxyz: Fadli Zon Minta Mendagri Segera...  ...     0\n",
              "1    RT @baguscondromowo: Mereka terus melukai aksi...  ...     0\n",
              "2    Sylvi: bagaimana gurbernur melakukan kekerasan...  ...     0\n",
              "3    Ahmad Dhani Tak Puas Debat Pilkada, Masalah Ja...  ...     0\n",
              "4    RT @lisdaulay28: Waspada KTP palsu.....kawal P...  ...     0\n",
              "..                                                 ...  ...   ...\n",
              "708  Muka Si BABi Ahok Tuh Yg Mirip SERBET Lantai.....  ...     1\n",
              "709  Betul bang hancurkan merka bang, musnahkan chi...  ...     1\n",
              "710  Sapa Yg bilang Ahok anti korupsi!?, klo grombo...  ...     1\n",
              "711  Gw juga ngimpi SENTILIN BIJI BABI AHOK, pcetar...  ...     1\n",
              "712  Mudah2an gw ketemu sama SI BABI IWAN BOPENG DI...  ...     1\n",
              "\n",
              "[713 rows x 8 columns]"
            ]
          },
          "metadata": {
            "tags": []
          },
          "execution_count": 36
        }
      ]
    },
    {
      "cell_type": "markdown",
      "metadata": {
        "id": "-wjg_9zRQaxG"
      },
      "source": [
        "# **Classification**"
      ]
    },
    {
      "cell_type": "markdown",
      "metadata": {
        "id": "uoqCysxDRDWQ"
      },
      "source": [
        "Untuk classification, saya akan melakukan test split dengan persentase train sebesar 80% dan test sebesar 20%, dan juga disini saya menggunakan stratify, karena data yang ada **unbalanced**"
      ]
    },
    {
      "cell_type": "code",
      "metadata": {
        "id": "OhKWaoKL_2L3"
      },
      "source": [
        "X_train_ori, X_test_ori, y_train, y_test = model_selection.train_test_split(df_bank['Tweet_String'],df_bank['Label'],test_size=0.2,stratify=df_bank['Label'])"
      ],
      "execution_count": 58,
      "outputs": []
    },
    {
      "cell_type": "markdown",
      "metadata": {
        "id": "QInh8YfjRjlV"
      },
      "source": [
        "Untuk feature extraction yang saat ini saya pakai adalah TF-IDF vectorizer"
      ]
    },
    {
      "cell_type": "code",
      "metadata": {
        "colab": {
          "base_uri": "https://localhost:8080/"
        },
        "id": "NEGba42NDkze",
        "outputId": "ae26e5ae-3eef-4b92-d2f9-8a81a50b3cae"
      },
      "source": [
        "from sklearn.feature_extraction.text import CountVectorizer\n",
        "from sklearn.feature_extraction.text import TfidfVectorizer\n",
        "\n",
        "#vectorizer = CountVectorizer()\n",
        "vectorizer = TfidfVectorizer()\n",
        "vectorizer.fit(X_train_ori)"
      ],
      "execution_count": 59,
      "outputs": [
        {
          "output_type": "execute_result",
          "data": {
            "text/plain": [
              "TfidfVectorizer(analyzer='word', binary=False, decode_error='strict',\n",
              "                dtype=<class 'numpy.float64'>, encoding='utf-8',\n",
              "                input='content', lowercase=True, max_df=1.0, max_features=None,\n",
              "                min_df=1, ngram_range=(1, 1), norm='l2', preprocessor=None,\n",
              "                smooth_idf=True, stop_words=None, strip_accents=None,\n",
              "                sublinear_tf=False, token_pattern='(?u)\\\\b\\\\w\\\\w+\\\\b',\n",
              "                tokenizer=None, use_idf=True, vocabulary=None)"
            ]
          },
          "metadata": {
            "tags": []
          },
          "execution_count": 59
        }
      ]
    },
    {
      "cell_type": "code",
      "metadata": {
        "id": "-YqhzA4ZtHZU"
      },
      "source": [
        "X_train = vectorizer.transform(X_train_ori).toarray()\n",
        "X_test = vectorizer.transform(X_test_ori).toarray()"
      ],
      "execution_count": 60,
      "outputs": []
    },
    {
      "cell_type": "code",
      "metadata": {
        "id": "0nHZk4JquxCw"
      },
      "source": [
        ""
      ],
      "execution_count": null,
      "outputs": []
    },
    {
      "cell_type": "markdown",
      "metadata": {
        "id": "AkA8o5Upuy8q"
      },
      "source": [
        "#### ***Gaussian Naive Bayes***"
      ]
    },
    {
      "cell_type": "markdown",
      "metadata": {
        "id": "kuRUAMgduy8q"
      },
      "source": [
        "**Modeling Naive Bayes**"
      ]
    },
    {
      "cell_type": "code",
      "metadata": {
        "id": "L-V0dx2-uy8q"
      },
      "source": [
        "# Import Module\n",
        "from sklearn.naive_bayes import GaussianNB \n",
        "\n",
        "# Modeling Naive Bayes Classifier\n",
        "gnb = GaussianNB()\n",
        "gnb.fit(X_train, y_train)\n",
        "\n",
        "# Predict to Test Data\n",
        "y_pred_gnb= gnb.predict(X_test)"
      ],
      "execution_count": 93,
      "outputs": []
    },
    {
      "cell_type": "markdown",
      "metadata": {
        "id": "dGp6A0AEuy8q"
      },
      "source": [
        "**Model Evaluation**"
      ]
    },
    {
      "cell_type": "code",
      "metadata": {
        "colab": {
          "base_uri": "https://localhost:8080/"
        },
        "id": "7pH7RjXeuy8r",
        "outputId": "f69cc9c5-8fd1-4070-a6db-d49319c78091"
      },
      "source": [
        "# Show the Confussion Matrix\n",
        "cm_gnb = metrics.confusion_matrix(y_test, y_pred_gnb)\n",
        "cm_gnb"
      ],
      "execution_count": 94,
      "outputs": [
        {
          "output_type": "execute_result",
          "data": {
            "text/plain": [
              "array([[59, 32],\n",
              "       [ 9, 43]])"
            ]
          },
          "metadata": {
            "tags": []
          },
          "execution_count": 94
        }
      ]
    },
    {
      "cell_type": "code",
      "metadata": {
        "colab": {
          "base_uri": "https://localhost:8080/"
        },
        "id": "dlJw0y0ruy8s",
        "outputId": "dfedab91-32b2-4465-f2e0-ec8d45151ff5"
      },
      "source": [
        "# Show the Accuracy, Precision, Recall\n",
        "acc_gnb = metrics.accuracy_score(y_test, y_pred_gnb)\n",
        "prec_gnb = metrics.precision_score(y_test, y_pred_gnb)\n",
        "rec_gnb = metrics.recall_score(y_test, y_pred_gnb)\n",
        "f1_gnb = metrics.f1_score(y_test, y_pred_gnb)\n",
        "kappa_gnb = metrics.cohen_kappa_score(y_test, y_pred_gnb)\n",
        "\n",
        "print(\"Accuracy:\", acc_gnb)\n",
        "print(\"Precision:\", prec_gnb)\n",
        "print(\"Recall:\", rec_gnb)\n",
        "print(\"F1 Score:\", f1_gnb)\n",
        "print(\"Cohens Kappa Score:\", kappa_gnb)"
      ],
      "execution_count": 95,
      "outputs": [
        {
          "output_type": "stream",
          "text": [
            "Accuracy: 0.7132867132867133\n",
            "Precision: 0.5733333333333334\n",
            "Recall: 0.8269230769230769\n",
            "F1 Score: 0.6771653543307086\n",
            "Cohens Kappa Score: 0.43412797992471763\n"
          ],
          "name": "stdout"
        }
      ]
    },
    {
      "cell_type": "code",
      "metadata": {
        "colab": {
          "base_uri": "https://localhost:8080/",
          "height": 295
        },
        "id": "W6rxAXRouy8s",
        "outputId": "3f8f0b2d-1267-45b8-d764-43c8153b0100"
      },
      "source": [
        "# ROC Curve\n",
        "y_pred_gnb_proba = gnb.predict_proba(X_test)[::,1]\n",
        "fprgnb, tprgnb, _ = metrics.roc_curve(y_test,  y_pred_gnb_proba)\n",
        "aucgnb = metrics.roc_auc_score(y_test, y_pred_gnb_proba)\n",
        "plt.plot(fprgnb,tprgnb,label=\"Naive Bayes, auc=\"+str(aucgnb))\n",
        "plt.title('ROC Curve - Naive Bayes')\n",
        "plt.xlabel('false positive rate') \n",
        "plt.ylabel('true positive rate')\n",
        "plt.legend(loc=4)\n",
        "plt.show()"
      ],
      "execution_count": 96,
      "outputs": [
        {
          "output_type": "display_data",
          "data": {
            "image/png": "[encoded data removed]",
            "text/plain": [
              "<Figure size 432x288 with 1 Axes>"
            ]
          },
          "metadata": {
            "tags": [],
            "needs_background": "light"
          }
        }
      ]
    },
    {
      "cell_type": "markdown",
      "metadata": {
        "id": "nOtGq06Yx5m-"
      },
      "source": [
        "#### ***Multinomial Naive Bayes***"
      ]
    },
    {
      "cell_type": "markdown",
      "metadata": {
        "id": "MSjixvtW3BCT"
      },
      "source": [
        "**Modeling Naive Bayes**"
      ]
    },
    {
      "cell_type": "code",
      "metadata": {
        "id": "dhyV9oiBxYaR"
      },
      "source": [
        "# Import Module\n",
        "from sklearn.naive_bayes import GaussianNB \n",
        "\n",
        "# Modeling Naive Bayes Classifier\n",
        "mnm = naive_bayes.MultinomialNB()\n",
        "mnm.fit(X_train, y_train)\n",
        "\n",
        "# Predict to Test Data\n",
        "y_pred_mnm= mnm.predict(X_test)"
      ],
      "execution_count": 97,
      "outputs": []
    },
    {
      "cell_type": "markdown",
      "metadata": {
        "id": "aIj46eRf2-X2"
      },
      "source": [
        "**Model Evaluation**"
      ]
    },
    {
      "cell_type": "code",
      "metadata": {
        "id": "x5hK9_mKxaGy",
        "colab": {
          "base_uri": "https://localhost:8080/"
        },
        "outputId": "15790c25-f0e6-4ead-8904-705bcdb1a109"
      },
      "source": [
        "# Show the Confussion Matrix\n",
        "cm_mnm = metrics.confusion_matrix(y_test, y_pred_mnm)\n",
        "cm_mnm"
      ],
      "execution_count": 98,
      "outputs": [
        {
          "output_type": "execute_result",
          "data": {
            "text/plain": [
              "array([[86,  5],\n",
              "       [17, 35]])"
            ]
          },
          "metadata": {
            "tags": []
          },
          "execution_count": 98
        }
      ]
    },
    {
      "cell_type": "code",
      "metadata": {
        "id": "ZUBWww1Wxb8E",
        "colab": {
          "base_uri": "https://localhost:8080/"
        },
        "outputId": "7d7e1447-c57c-4522-b047-4a789a376d40"
      },
      "source": [
        "# Show the Accuracy, Precision, Recall\n",
        "acc_mnm = metrics.accuracy_score(y_test, y_pred_mnm)\n",
        "prec_mnm = metrics.precision_score(y_test, y_pred_mnm)\n",
        "rec_mnm = metrics.recall_score(y_test, y_pred_mnm)\n",
        "f1_mnm = metrics.f1_score(y_test, y_pred_mnm)\n",
        "kappa_mnm = metrics.cohen_kappa_score(y_test, y_pred_mnm)\n",
        "\n",
        "print(\"Accuracy:\", acc_mnm)\n",
        "print(\"Precision:\", prec_mnm)\n",
        "print(\"Recall:\", rec_mnm)\n",
        "print(\"F1 Score:\", f1_mnm)\n",
        "print(\"Cohens Kappa Score:\", kappa_mnm)"
      ],
      "execution_count": 99,
      "outputs": [
        {
          "output_type": "stream",
          "text": [
            "Accuracy: 0.8461538461538461\n",
            "Precision: 0.875\n",
            "Recall: 0.6730769230769231\n",
            "F1 Score: 0.7608695652173914\n",
            "Cohens Kappa Score: 0.6502890173410405\n"
          ],
          "name": "stdout"
        }
      ]
    },
    {
      "cell_type": "code",
      "metadata": {
        "id": "QvjEOHVoeaKY",
        "colab": {
          "base_uri": "https://localhost:8080/",
          "height": 295
        },
        "outputId": "cbf4d467-b4b1-4758-d229-ec5d9db39cdc"
      },
      "source": [
        "# ROC Curve\n",
        "y_pred_mnm_proba = mnm.predict_proba(X_test)[::,1]\n",
        "fprmnm, tprmnm, _ = metrics.roc_curve(y_test,  y_pred_mnm_proba)\n",
        "aucmnm = metrics.roc_auc_score(y_test, y_pred_mnm_proba)\n",
        "plt.plot(fprmnm,tprmnm,label=\"Naive Bayes, auc=\"+str(aucmnm))\n",
        "plt.title('ROC Curve - Naive Bayes')\n",
        "plt.xlabel('false positive rate') \n",
        "plt.ylabel('true positive rate')\n",
        "plt.legend(loc=4)\n",
        "plt.show()"
      ],
      "execution_count": 100,
      "outputs": [
        {
          "output_type": "display_data",
          "data": {
            "image/png": "[encoded data removed]",
            "text/plain": [
              "<Figure size 432x288 with 1 Axes>"
            ]
          },
          "metadata": {
            "tags": [],
            "needs_background": "light"
          }
        }
      ]
    },
    {
      "cell_type": "markdown",
      "metadata": {
        "id": "KS2PyYi8Ld2H"
      },
      "source": [
        "#### ***K-Nearest Neighbor***"
      ]
    },
    {
      "cell_type": "markdown",
      "metadata": {
        "id": "vi5fHuZLgj70"
      },
      "source": [
        "**Modelling K-NN**"
      ]
    },
    {
      "cell_type": "code",
      "metadata": {
        "id": "8B-pBh2JRJLA"
      },
      "source": [
        "# Import Module\n",
        "from sklearn.neighbors import KNeighborsClassifier\n",
        "\n",
        "# Modeling KNN\n",
        "knn = KNeighborsClassifier()\n",
        "knn.fit(X_train, y_train)\n",
        "\n",
        "# Predict to Test Data\n",
        "y_pred_knn= knn.predict(X_test)"
      ],
      "execution_count": 101,
      "outputs": []
    },
    {
      "cell_type": "markdown",
      "metadata": {
        "id": "bCMz6Ipa8L2o"
      },
      "source": [
        "**Model Evaluation**"
      ]
    },
    {
      "cell_type": "code",
      "metadata": {
        "id": "2IGoKuhTRjSV",
        "colab": {
          "base_uri": "https://localhost:8080/"
        },
        "outputId": "a957cde5-8208-4d96-b2b4-cab0c3a92b8d"
      },
      "source": [
        "# Show the Confussion Matrix\n",
        "cm_knn = metrics.confusion_matrix(y_test, y_pred_knn)\n",
        "cm_knn"
      ],
      "execution_count": 102,
      "outputs": [
        {
          "output_type": "execute_result",
          "data": {
            "text/plain": [
              "array([[82,  9],\n",
              "       [16, 36]])"
            ]
          },
          "metadata": {
            "tags": []
          },
          "execution_count": 102
        }
      ]
    },
    {
      "cell_type": "code",
      "metadata": {
        "id": "vGfDkvoyRq24",
        "colab": {
          "base_uri": "https://localhost:8080/"
        },
        "outputId": "3fb789c1-ea13-4d5e-a09e-36b15613e905"
      },
      "source": [
        "# Show the Accuracy, Precision, Recall\n",
        "acc_knn = metrics.accuracy_score(y_test, y_pred_knn)\n",
        "prec_knn = metrics.precision_score(y_test, y_pred_knn)\n",
        "rec_knn = metrics.recall_score(y_test, y_pred_knn)\n",
        "f1_knn = metrics.f1_score(y_test, y_pred_knn)\n",
        "kappa_knn = metrics.cohen_kappa_score(y_test, y_pred_knn)\n",
        "\n",
        "print(\"Accuracy:\", acc_knn)\n",
        "print(\"Precision:\", prec_knn)\n",
        "print(\"Recall:\", rec_knn)\n",
        "print(\"F1 Score:\", f1_knn)\n",
        "print(\"Cohens Kappa Score:\", kappa_knn)"
      ],
      "execution_count": 103,
      "outputs": [
        {
          "output_type": "stream",
          "text": [
            "Accuracy: 0.8251748251748252\n",
            "Precision: 0.8\n",
            "Recall: 0.6923076923076923\n",
            "F1 Score: 0.7422680412371134\n",
            "Cohens Kappa Score: 0.611032531824611\n"
          ],
          "name": "stdout"
        }
      ]
    },
    {
      "cell_type": "code",
      "metadata": {
        "id": "lIcUWjI8SAA5",
        "colab": {
          "base_uri": "https://localhost:8080/",
          "height": 295
        },
        "outputId": "13ac4042-a7be-41da-f1e7-2a98130da748"
      },
      "source": [
        "# ROC Curve\n",
        "y_pred_knn_proba = knn.predict_proba(X_test)[::,1]\n",
        "fprknn, tprknn, _ = metrics.roc_curve(y_test,  y_pred_knn_proba)\n",
        "aucknn = metrics.roc_auc_score(y_test, y_pred_knn_proba)\n",
        "plt.plot(fprknn,tprknn,label=\"K-Nearest Neighbor, auc=\"+str(aucknn))\n",
        "plt.title('ROC Curve - K-Nearest Neighbor')\n",
        "plt.xlabel('false positive rate') \n",
        "plt.ylabel('true positive rate')\n",
        "plt.legend(loc=4)\n",
        "plt.show()"
      ],
      "execution_count": 104,
      "outputs": [
        {
          "output_type": "display_data",
          "data": {
            "image/png": "[encoded data removed]",
            "text/plain": [
              "<Figure size 432x288 with 1 Axes>"
            ]
          },
          "metadata": {
            "tags": [],
            "needs_background": "light"
          }
        }
      ]
    },
    {
      "cell_type": "markdown",
      "metadata": {
        "id": "CZjKU3fwnuyH"
      },
      "source": [
        "#### ***Random Forest***"
      ]
    },
    {
      "cell_type": "markdown",
      "metadata": {
        "id": "OvKiDM_b_YwF"
      },
      "source": [
        "**Modeling Random Forest**"
      ]
    },
    {
      "cell_type": "code",
      "metadata": {
        "id": "NJRPDRtd444h"
      },
      "source": [
        "# Import Module\n",
        "from sklearn.ensemble import RandomForestClassifier\n",
        "\n",
        "# Modeling Random Forest\n",
        "rfo = RandomForestClassifier()\n",
        "rfo.fit(X_train, y_train)\n",
        "\n",
        "# Predict to Test Data\n",
        "y_pred_rfo= rfo.predict(X_test)"
      ],
      "execution_count": 105,
      "outputs": []
    },
    {
      "cell_type": "markdown",
      "metadata": {
        "id": "cN4WKzjQ_g71"
      },
      "source": [
        "**Model Evaluation**"
      ]
    },
    {
      "cell_type": "code",
      "metadata": {
        "id": "tfB2RoiO84mm",
        "colab": {
          "base_uri": "https://localhost:8080/"
        },
        "outputId": "0b61df5c-684d-4106-8a2c-db37b64893b7"
      },
      "source": [
        "# Show the Confussion Matrix\n",
        "cm_rfo = metrics.confusion_matrix(y_test, y_pred_rfo)\n",
        "cm_rfo"
      ],
      "execution_count": 106,
      "outputs": [
        {
          "output_type": "execute_result",
          "data": {
            "text/plain": [
              "array([[84,  7],\n",
              "       [16, 36]])"
            ]
          },
          "metadata": {
            "tags": []
          },
          "execution_count": 106
        }
      ]
    },
    {
      "cell_type": "code",
      "metadata": {
        "id": "IqNKYC9Z9BVV",
        "colab": {
          "base_uri": "https://localhost:8080/"
        },
        "outputId": "7a6cb2b8-d511-4cc5-ee37-e94b2a81fb74"
      },
      "source": [
        "# Show the Accuracy, Precision, Recall\n",
        "acc_rfo = metrics.accuracy_score(y_test, y_pred_rfo)\n",
        "prec_rfo = metrics.precision_score(y_test, y_pred_rfo)\n",
        "rec_rfo = metrics.recall_score(y_test, y_pred_rfo)\n",
        "f1_rfo = metrics.f1_score(y_test, y_pred_rfo)\n",
        "kappa_rfo = metrics.cohen_kappa_score(y_test, y_pred_rfo)\n",
        "\n",
        "print(\"Accuracy:\", acc_rfo)\n",
        "print(\"Precision:\", prec_rfo)\n",
        "print(\"Recall:\", rec_rfo)\n",
        "print(\"F1 Score:\", f1_rfo)\n",
        "print(\"Cohens Kappa Score:\", kappa_rfo)"
      ],
      "execution_count": 107,
      "outputs": [
        {
          "output_type": "stream",
          "text": [
            "Accuracy: 0.8391608391608392\n",
            "Precision: 0.8372093023255814\n",
            "Recall: 0.6923076923076923\n",
            "F1 Score: 0.7578947368421053\n",
            "Cohens Kappa Score: 0.6390870185449358\n"
          ],
          "name": "stdout"
        }
      ]
    },
    {
      "cell_type": "code",
      "metadata": {
        "id": "xjbfpiV3AtCT",
        "colab": {
          "base_uri": "https://localhost:8080/",
          "height": 295
        },
        "outputId": "ea28ec22-63ef-4621-c211-b8437b59d0bc"
      },
      "source": [
        "y_pred_rfo_proba = rfo.predict_proba(X_test)[::,1]\n",
        "fprrfo, tprrfo, _ = metrics.roc_curve(y_test,  y_pred_rfo_proba)\n",
        "aucrfo = metrics.roc_auc_score(y_test, y_pred_rfo_proba)\n",
        "plt.plot(fprrfo,tprrfo,label=\"Random Forest, auc=\"+str(aucrfo))\n",
        "plt.title('ROC Curve - Random Forest')\n",
        "plt.xlabel('false positive rate') \n",
        "plt.ylabel('true positive rate')\n",
        "plt.legend(loc=4)\n",
        "plt.show()"
      ],
      "execution_count": 108,
      "outputs": [
        {
          "output_type": "display_data",
          "data": {
            "image/png": "[encoded data removed]",
            "text/plain": [
              "<Figure size 432x288 with 1 Axes>"
            ]
          },
          "metadata": {
            "tags": [],
            "needs_background": "light"
          }
        }
      ]
    },
    {
      "cell_type": "markdown",
      "metadata": {
        "id": "HJzC5J6a_JnJ"
      },
      "source": [
        "#### ***SVM***"
      ]
    },
    {
      "cell_type": "markdown",
      "metadata": {
        "id": "rkxOmxyQ_ouL"
      },
      "source": [
        "**Modeling SVM**"
      ]
    },
    {
      "cell_type": "code",
      "metadata": {
        "id": "jTxVO4TL_JnJ"
      },
      "source": [
        "# Import Module\n",
        "from sklearn import svm\n",
        "\n",
        "# Modeling Random Forest\n",
        "esvm = svm.SVC(C=1.0, kernel='linear', degree=3, gamma='auto')\n",
        "esvm.fit(X_train, y_train)\n",
        "\n",
        "# Predict to Test Data\n",
        "y_pred_esvm= esvm.predict(X_test)"
      ],
      "execution_count": 109,
      "outputs": []
    },
    {
      "cell_type": "markdown",
      "metadata": {
        "id": "DFEh_nml_rJ3"
      },
      "source": [
        "**Model Evaluation**"
      ]
    },
    {
      "cell_type": "code",
      "metadata": {
        "colab": {
          "base_uri": "https://localhost:8080/"
        },
        "id": "5jMKlIPP_JnJ",
        "outputId": "bbc029f0-c3f4-44ec-c2f6-b11114db0ba9"
      },
      "source": [
        "# Show the Confussion Matrix\n",
        "cm_esvm = metrics.confusion_matrix(y_test, y_pred_esvm)\n",
        "cm_esvm"
      ],
      "execution_count": 110,
      "outputs": [
        {
          "output_type": "execute_result",
          "data": {
            "text/plain": [
              "array([[84,  7],\n",
              "       [16, 36]])"
            ]
          },
          "metadata": {
            "tags": []
          },
          "execution_count": 110
        }
      ]
    },
    {
      "cell_type": "code",
      "metadata": {
        "colab": {
          "base_uri": "https://localhost:8080/"
        },
        "id": "Yfd1PC-g_JnK",
        "outputId": "8daeba1a-7f90-4b75-f9ef-c46338429d45"
      },
      "source": [
        "# Show the Accuracy, Precision, Recall\n",
        "acc_esvm = metrics.accuracy_score(y_test, y_pred_esvm)\n",
        "prec_esvm = metrics.precision_score(y_test, y_pred_esvm)\n",
        "rec_esvm = metrics.recall_score(y_test, y_pred_esvm)\n",
        "f1_esvm = metrics.f1_score(y_test, y_pred_esvm)\n",
        "kappa_esvm = metrics.cohen_kappa_score(y_test, y_pred_esvm)\n",
        "\n",
        "print(\"Accuracy:\", acc_esvm)\n",
        "print(\"Precision:\", prec_esvm)\n",
        "print(\"Recall:\", rec_esvm)\n",
        "print(\"F1 Score:\", f1_esvm)\n",
        "print(\"Cohens Kappa Score:\", kappa_esvm)"
      ],
      "execution_count": 111,
      "outputs": [
        {
          "output_type": "stream",
          "text": [
            "Accuracy: 0.8391608391608392\n",
            "Precision: 0.8372093023255814\n",
            "Recall: 0.6923076923076923\n",
            "F1 Score: 0.7578947368421053\n",
            "Cohens Kappa Score: 0.6390870185449358\n"
          ],
          "name": "stdout"
        }
      ]
    },
    {
      "cell_type": "markdown",
      "metadata": {
        "id": "smDzk-Kox9Hg"
      },
      "source": [
        "#### ***Model Comparison***"
      ]
    },
    {
      "cell_type": "code",
      "metadata": {
        "id": "1Mbup_VsxfE3",
        "colab": {
          "base_uri": "https://localhost:8080/"
        },
        "outputId": "81c973e0-af41-4b00-ff8a-38a9bdf03d82"
      },
      "source": [
        "# Comparing Model Performance\n",
        "print(\"Gaussian Naive Bayes Accuracy = {0:.2f}%\".format(acc_gnb*100))\n",
        "print(\"Gaussian Naive Bayes Precision = {0:.2f}%\".format(prec_gnb*100))\n",
        "print(\"Gaussian Naive Bayes Recall = {0:.2f}%\".format(rec_gnb*100))\n",
        "print(\"Gaussian Naive Bayes F1-Score = {0:.2f}%\".format(f1_gnb*100))\n",
        "print(\"_______________________\")\n",
        "print(\"Multinomial Naive Bayes Accuracy = {0:.2f}%\".format(acc_mnm*100))\n",
        "print(\"Multinomial Naive Bayes Precision = {0:.2f}%\".format(prec_mnm*100))\n",
        "print(\"Multinomial Naive Bayes Recall = {0:.2f}%\".format(rec_mnm*100))\n",
        "print(\"Multinomial Naive Bayes F1-Score = {0:.2f}%\".format(f1_mnm*100))\n",
        "print(\"_______________________\")\n",
        "print(\"K-Nearest Neighbor Accuracy = {0:.2f}%\".format(acc_knn*100))\n",
        "print(\"K-Nearest Neighbor Precision = {0:.2f}%\".format(prec_knn*100))\n",
        "print(\"K-Nearest Neighbor Recall = {0:.2f}%\".format(rec_knn*100))\n",
        "print(\"K-Nearest Neighbor F1-Score = {0:.2f}%\".format(f1_knn*100))\n",
        "print(\"_______________________\")\n",
        "print(\"Random Forest Accuracy = {0:.2f}%\".format(acc_rfo*100))\n",
        "print(\"Random Forest Precision = {0:.2f}%\".format(prec_rfo*100))\n",
        "print(\"Random Forest Recall = {0:.2f}%\".format(rec_rfo*100))\n",
        "print(\"Random Forest F1-Score = {0:.2f}%\".format(f1_rfo*100))\n",
        "print(\"_______________________\")\n",
        "print(\"SVM Accuracy = {0:.2f}%\".format(acc_esvm*100))\n",
        "print(\"SVM Precision = {0:.2f}%\".format(prec_esvm*100))\n",
        "print(\"SVM Recall = {0:.2f}%\".format(rec_esvm*100))\n",
        "print(\"SVM F1-Score = {0:.2f}%\".format(f1_esvm*100))"
      ],
      "execution_count": 114,
      "outputs": [
        {
          "output_type": "stream",
          "text": [
            "Gaussian Naive Bayes Accuracy = 71.33%\n",
            "Gaussian Naive Bayes Precision = 57.33%\n",
            "Gaussian Naive Bayes Recall = 82.69%\n",
            "Gaussian Naive Bayes F1-Score = 67.72%\n",
            "_______________________\n",
            "Multinomial Naive Bayes Accuracy = 84.62%\n",
            "Multinomial Naive Bayes Precision = 87.50%\n",
            "Multinomial Naive Bayes Recall = 67.31%\n",
            "Multinomial Naive Bayes F1-Score = 76.09%\n",
            "_______________________\n",
            "K-Nearest Neighbor Accuracy = 82.52%\n",
            "K-Nearest Neighbor Precision = 80.00%\n",
            "K-Nearest Neighbor Recall = 69.23%\n",
            "K-Nearest Neighbor F1-Score = 74.23%\n",
            "_______________________\n",
            "Random Forest Accuracy = 83.92%\n",
            "Random Forest Precision = 83.72%\n",
            "Random Forest Recall = 69.23%\n",
            "Random Forest F1-Score = 75.79%\n",
            "_______________________\n",
            "SVM Accuracy = 83.92%\n",
            "SVM Precision = 83.72%\n",
            "SVM Recall = 69.23%\n",
            "SVM F1-Score = 75.79%\n"
          ],
          "name": "stdout"
        }
      ]
    },
    {
      "cell_type": "code",
      "metadata": {
        "id": "o3vmPWKqagI6",
        "colab": {
          "base_uri": "https://localhost:8080/",
          "height": 295
        },
        "outputId": "5783aab7-8389-4cef-a81a-7065490a4789"
      },
      "source": [
        "# Comparing ROC Curve\n",
        "plt.plot(fprgnb,tprgnb,label=\"Gaussian Naive Bayes, auc=\"+str(aucgnb))\n",
        "plt.plot(fprmnm,tprmnm,label=\"Multinomial Naive Bayes, auc=\"+str(aucmnm))\n",
        "plt.plot(fprknn,tprknn,label=\"K-Nearest Neighbor, auc=\"+str(aucknn))\n",
        "plt.plot(fprrfo,tprrfo,label=\"Random Forest, auc=\"+str(aucrfo))\n",
        "plt.title('ROC Curve')\n",
        "plt.xlabel('False Positive Rate')\n",
        "plt.ylabel('True Positive Rate')\n",
        "plt.legend(loc=4)\n",
        "plt.show()"
      ],
      "execution_count": 113,
      "outputs": [
        {
          "output_type": "display_data",
          "data": {
            "image/png": "[encoded data removed]",
            "text/plain": [
              "<Figure size 432x288 with 1 Axes>"
            ]
          },
          "metadata": {
            "tags": [],
            "needs_background": "light"
          }
        }
      ]
    },
    {
      "cell_type": "markdown",
      "metadata": {
        "id": "UsU0oCcA5_Bj"
      },
      "source": [
        "#### ***Kesimpulan***\n",
        "\n",
        "Disini kita bisa melihat, dari 5 model klasifikasi yang dilakukan, model klasifikasi text terbaik yang untuk dataset ini pada :\n",
        "\n",
        "* Accuracy, Multinomial Naive Bayes = 84.62%,\n",
        "* Precision, Multinomial Naive Bayes = 87.50%,\n",
        "* Recall, Gaussian Naive Bayes = 82.69%,\n",
        "* F1-Score, Multinomial Naive Bayes = 76.09%,\n",
        "* AUC, Multinomial Naive Bayes = 0.937.\n",
        "\n",
        "Dari sini kita bisa menyimpulkan bahwa **Multinomial Naive Bayes** adalah model klasifikasi text terbaik untuk dataset IDHSD_RIO_unbalanced_713_2017.txt."
      ]
    }
  ]
}